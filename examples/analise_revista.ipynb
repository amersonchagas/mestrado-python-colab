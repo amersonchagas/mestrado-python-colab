{
  "nbformat": 4,
  "nbformat_minor": 0,
  "metadata": {
    "kernelspec": {
      "language": "python",
      "display_name": "Python 3",
      "name": "python3"
    },
    "language_info": {
      "pygments_lexer": "ipython3",
      "nbconvert_exporter": "python",
      "version": "3.6.4",
      "file_extension": ".py",
      "codemirror_mode": {
        "name": "ipython",
        "version": 3
      },
      "name": "python",
      "mimetype": "text/x-python"
    },
    "colab": {
      "name": "analise_revista.ipynb",
      "provenance": [],
      "collapsed_sections": []
    },
    "accelerator": "TPU"
  },
  "cells": [
    {
      "cell_type": "code",
      "metadata": {
        "id": "WB0yRPKCbWya",
        "execution": {
          "iopub.status.busy": "2021-06-06T12:32:06.567621Z",
          "iopub.execute_input": "2021-06-06T12:32:06.567915Z",
          "iopub.status.idle": "2021-06-06T12:32:34.64491Z",
          "shell.execute_reply.started": "2021-06-06T12:32:06.567887Z",
          "shell.execute_reply": "2021-06-06T12:32:34.644047Z"
        },
        "trusted": true,
        "colab": {
          "base_uri": "https://localhost:8080/"
        },
        "outputId": "1d793214-4440-47f0-ee22-0f9dbeecc4f0"
      },
      "source": [
        "!pip install gdown\n",
        "!pip install orange3"
      ],
      "execution_count": null,
      "outputs": [
        {
          "output_type": "stream",
          "text": [
            "Requirement already satisfied: gdown in /usr/local/lib/python3.7/dist-packages (3.6.4)\n",
            "Requirement already satisfied: six in /usr/local/lib/python3.7/dist-packages (from gdown) (1.15.0)\n",
            "Requirement already satisfied: tqdm in /usr/local/lib/python3.7/dist-packages (from gdown) (4.41.1)\n",
            "Requirement already satisfied: requests in /usr/local/lib/python3.7/dist-packages (from gdown) (2.23.0)\n",
            "Requirement already satisfied: certifi>=2017.4.17 in /usr/local/lib/python3.7/dist-packages (from requests->gdown) (2021.5.30)\n",
            "Requirement already satisfied: urllib3!=1.25.0,!=1.25.1,<1.26,>=1.21.1 in /usr/local/lib/python3.7/dist-packages (from requests->gdown) (1.24.3)\n",
            "Requirement already satisfied: idna<3,>=2.5 in /usr/local/lib/python3.7/dist-packages (from requests->gdown) (2.10)\n",
            "Requirement already satisfied: chardet<4,>=3.0.2 in /usr/local/lib/python3.7/dist-packages (from requests->gdown) (3.0.4)\n",
            "Collecting orange3\n",
            "  Downloading Orange3-3.29.3-cp37-cp37m-manylinux_2_5_x86_64.manylinux1_x86_64.whl (25.3 MB)\n",
            "\u001b[K     |████████████████████████████████| 25.3 MB 89 kB/s \n",
            "\u001b[?25hCollecting httpx<0.17,>=0.14.0\n",
            "  Downloading httpx-0.16.1-py3-none-any.whl (65 kB)\n",
            "\u001b[K     |████████████████████████████████| 65 kB 4.2 MB/s \n",
            "\u001b[?25hRequirement already satisfied: scikit-learn!=0.23.0,>=0.22.0 in /usr/local/lib/python3.7/dist-packages (from orange3) (0.22.2.post1)\n",
            "Collecting openTSNE>=0.6.0\n",
            "  Downloading openTSNE-0.6.0-cp37-cp37m-manylinux2010_x86_64.whl (2.3 MB)\n",
            "\u001b[K     |████████████████████████████████| 2.3 MB 18.4 MB/s \n",
            "\u001b[?25hCollecting serverfiles\n",
            "  Downloading serverfiles-0.3.1.tar.gz (11 kB)\n",
            "Requirement already satisfied: matplotlib>=2.0.0 in /usr/local/lib/python3.7/dist-packages (from orange3) (3.2.2)\n",
            "Requirement already satisfied: openpyxl in /usr/local/lib/python3.7/dist-packages (from orange3) (2.5.9)\n",
            "Collecting pyqtgraph>=0.11.1\n",
            "  Downloading pyqtgraph-0.12.2-py3-none-any.whl (959 kB)\n",
            "\u001b[K     |████████████████████████████████| 959 kB 33.6 MB/s \n",
            "\u001b[?25hCollecting orange-canvas-core<0.2a,>=0.1.21\n",
            "  Downloading orange_canvas_core-0.1.21-py3-none-any.whl (485 kB)\n",
            "\u001b[K     |████████████████████████████████| 485 kB 44.5 MB/s \n",
            "\u001b[?25hCollecting PyQtWebEngine>=5.12\n",
            "  Downloading PyQtWebEngine-5.15.4-cp36.cp37.cp38.cp39-abi3-manylinux2014_x86_64.whl (229 kB)\n",
            "\u001b[K     |████████████████████████████████| 229 kB 58.2 MB/s \n",
            "\u001b[?25hRequirement already satisfied: numpy>=1.16.0 in /usr/local/lib/python3.7/dist-packages (from orange3) (1.19.5)\n",
            "Requirement already satisfied: setuptools>=36.3 in /usr/local/lib/python3.7/dist-packages (from orange3) (57.2.0)\n",
            "Requirement already satisfied: scipy>=0.16.1 in /usr/local/lib/python3.7/dist-packages (from orange3) (1.4.1)\n",
            "Requirement already satisfied: pip>=9.0 in /usr/local/lib/python3.7/dist-packages (from orange3) (21.1.3)\n",
            "Collecting AnyQt>=0.0.11\n",
            "  Downloading AnyQt-0.0.13-py3-none-any.whl (47 kB)\n",
            "\u001b[K     |████████████████████████████████| 47 kB 4.5 MB/s \n",
            "\u001b[?25hRequirement already satisfied: requests in /usr/local/lib/python3.7/dist-packages (from orange3) (2.23.0)\n",
            "Requirement already satisfied: bottleneck>=1.0.0 in /usr/local/lib/python3.7/dist-packages (from orange3) (1.3.2)\n",
            "Collecting orange-widget-base>=4.13.0\n",
            "  Downloading orange_widget_base-4.13.1-py3-none-any.whl (251 kB)\n",
            "\u001b[K     |████████████████████████████████| 251 kB 53.9 MB/s \n",
            "\u001b[?25hRequirement already satisfied: pyyaml in /usr/local/lib/python3.7/dist-packages (from orange3) (3.13)\n",
            "Requirement already satisfied: networkx in /usr/local/lib/python3.7/dist-packages (from orange3) (2.5.1)\n",
            "Collecting keyrings.alt\n",
            "  Downloading keyrings.alt-4.1.0-py3-none-any.whl (20 kB)\n",
            "Collecting xlsxwriter\n",
            "  Downloading XlsxWriter-1.4.5-py2.py3-none-any.whl (149 kB)\n",
            "\u001b[K     |████████████████████████████████| 149 kB 58.6 MB/s \n",
            "\u001b[?25hRequirement already satisfied: chardet>=3.0.2 in /usr/local/lib/python3.7/dist-packages (from orange3) (3.0.4)\n",
            "Requirement already satisfied: pandas>=1.0.0 in /usr/local/lib/python3.7/dist-packages (from orange3) (1.1.5)\n",
            "Collecting baycomp>=1.0.2\n",
            "  Downloading baycomp-1.0.2-py3-none-any.whl (17 kB)\n",
            "Requirement already satisfied: joblib>=0.9.4 in /usr/local/lib/python3.7/dist-packages (from orange3) (1.0.1)\n",
            "Requirement already satisfied: python-louvain>=0.13 in /usr/local/lib/python3.7/dist-packages (from orange3) (0.15)\n",
            "Collecting PyQt5!=5.15.1,>=5.12\n",
            "  Downloading PyQt5-5.15.4-cp36.cp37.cp38.cp39-abi3-manylinux2014_x86_64.whl (8.3 MB)\n",
            "\u001b[K     |████████████████████████████████| 8.3 MB 35.7 MB/s \n",
            "\u001b[?25hRequirement already satisfied: xlrd>=0.9.2 in /usr/local/lib/python3.7/dist-packages (from orange3) (1.1.0)\n",
            "Collecting keyring\n",
            "  Downloading keyring-23.0.1-py3-none-any.whl (33 kB)\n",
            "Collecting rfc3986[idna2008]<2,>=1.3\n",
            "  Downloading rfc3986-1.5.0-py2.py3-none-any.whl (31 kB)\n",
            "Collecting httpcore==0.12.*\n",
            "  Downloading httpcore-0.12.3-py3-none-any.whl (55 kB)\n",
            "\u001b[K     |████████████████████████████████| 55 kB 3.8 MB/s \n",
            "\u001b[?25hCollecting sniffio\n",
            "  Downloading sniffio-1.2.0-py3-none-any.whl (10 kB)\n",
            "Requirement already satisfied: certifi in /usr/local/lib/python3.7/dist-packages (from httpx<0.17,>=0.14.0->orange3) (2021.5.30)\n",
            "Collecting h11==0.*\n",
            "  Downloading h11-0.12.0-py3-none-any.whl (54 kB)\n",
            "\u001b[K     |████████████████████████████████| 54 kB 2.9 MB/s \n",
            "\u001b[?25hRequirement already satisfied: pyparsing!=2.0.4,!=2.1.2,!=2.1.6,>=2.0.1 in /usr/local/lib/python3.7/dist-packages (from matplotlib>=2.0.0->orange3) (2.4.7)\n",
            "Requirement already satisfied: python-dateutil>=2.1 in /usr/local/lib/python3.7/dist-packages (from matplotlib>=2.0.0->orange3) (2.8.1)\n",
            "Requirement already satisfied: kiwisolver>=1.0.1 in /usr/local/lib/python3.7/dist-packages (from matplotlib>=2.0.0->orange3) (1.3.1)\n",
            "Requirement already satisfied: cycler>=0.10 in /usr/local/lib/python3.7/dist-packages (from matplotlib>=2.0.0->orange3) (0.10.0)\n",
            "Requirement already satisfied: six in /usr/local/lib/python3.7/dist-packages (from cycler>=0.10->matplotlib>=2.0.0->orange3) (1.15.0)\n",
            "Requirement already satisfied: importlib-metadata in /usr/local/lib/python3.7/dist-packages (from orange-canvas-core<0.2a,>=0.1.21->orange3) (4.6.1)\n",
            "Requirement already satisfied: docutils in /usr/local/lib/python3.7/dist-packages (from orange-canvas-core<0.2a,>=0.1.21->orange3) (0.17.1)\n",
            "Collecting commonmark>=0.8.1\n",
            "  Downloading commonmark-0.9.1-py2.py3-none-any.whl (51 kB)\n",
            "\u001b[K     |████████████████████████████████| 51 kB 6.3 MB/s \n",
            "\u001b[?25hCollecting dictdiffer\n",
            "  Downloading dictdiffer-0.9.0-py2.py3-none-any.whl (16 kB)\n",
            "Requirement already satisfied: cachecontrol[filecache] in /usr/local/lib/python3.7/dist-packages (from orange-canvas-core<0.2a,>=0.1.21->orange3) (0.12.6)\n",
            "Collecting qasync\n",
            "  Downloading qasync-0.17.0-py3-none-any.whl (13 kB)\n",
            "Requirement already satisfied: typing-extensions>=3.7.4.3 in /usr/local/lib/python3.7/dist-packages (from orange-widget-base>=4.13.0->orange3) (3.7.4.3)\n",
            "Requirement already satisfied: pytz>=2017.2 in /usr/local/lib/python3.7/dist-packages (from pandas>=1.0.0->orange3) (2018.9)\n",
            "Collecting PyQt5-Qt5>=5.15\n",
            "  Downloading PyQt5_Qt5-5.15.2-py3-none-manylinux2014_x86_64.whl (59.9 MB)\n",
            "\u001b[K     |████████████████████████████████| 59.9 MB 37 kB/s \n",
            "\u001b[?25hCollecting PyQt5-sip<13,>=12.8\n",
            "  Downloading PyQt5_sip-12.9.0-cp37-cp37m-manylinux1_x86_64.whl (317 kB)\n",
            "\u001b[K     |████████████████████████████████| 317 kB 55.9 MB/s \n",
            "\u001b[?25hCollecting PyQtWebEngine-Qt5>=5.15\n",
            "  Downloading PyQtWebEngine_Qt5-5.15.2-py3-none-manylinux2014_x86_64.whl (67.5 MB)\n",
            "\u001b[K     |████████████████████████████████| 67.5 MB 33 kB/s \n",
            "\u001b[?25hRequirement already satisfied: idna in /usr/local/lib/python3.7/dist-packages (from rfc3986[idna2008]<2,>=1.3->httpx<0.17,>=0.14.0->orange3) (2.10)\n",
            "Requirement already satisfied: msgpack>=0.5.2 in /usr/local/lib/python3.7/dist-packages (from cachecontrol[filecache]->orange-canvas-core<0.2a,>=0.1.21->orange3) (1.0.2)\n",
            "Collecting lockfile>=0.9\n",
            "  Downloading lockfile-0.12.2-py2.py3-none-any.whl (13 kB)\n",
            "Requirement already satisfied: zipp>=0.5 in /usr/local/lib/python3.7/dist-packages (from importlib-metadata->orange-canvas-core<0.2a,>=0.1.21->orange3) (3.5.0)\n",
            "Collecting jeepney>=0.4.2\n",
            "  Downloading jeepney-0.7.1-py3-none-any.whl (54 kB)\n",
            "\u001b[K     |████████████████████████████████| 54 kB 2.4 MB/s \n",
            "\u001b[?25hCollecting SecretStorage>=3.2\n",
            "  Downloading SecretStorage-3.3.1-py3-none-any.whl (15 kB)\n",
            "Collecting cryptography>=2.0\n",
            "  Downloading cryptography-3.4.7-cp36-abi3-manylinux2014_x86_64.whl (3.2 MB)\n",
            "\u001b[K     |████████████████████████████████| 3.2 MB 26.9 MB/s \n",
            "\u001b[?25hRequirement already satisfied: cffi>=1.12 in /usr/local/lib/python3.7/dist-packages (from cryptography>=2.0->SecretStorage>=3.2->keyring->orange3) (1.14.6)\n",
            "Requirement already satisfied: pycparser in /usr/local/lib/python3.7/dist-packages (from cffi>=1.12->cryptography>=2.0->SecretStorage>=3.2->keyring->orange3) (2.20)\n",
            "Requirement already satisfied: decorator<5,>=4.3 in /usr/local/lib/python3.7/dist-packages (from networkx->orange3) (4.4.2)\n",
            "Requirement already satisfied: et-xmlfile in /usr/local/lib/python3.7/dist-packages (from openpyxl->orange3) (1.1.0)\n",
            "Requirement already satisfied: jdcal in /usr/local/lib/python3.7/dist-packages (from openpyxl->orange3) (1.4.1)\n",
            "Requirement already satisfied: urllib3!=1.25.0,!=1.25.1,<1.26,>=1.21.1 in /usr/local/lib/python3.7/dist-packages (from requests->orange3) (1.24.3)\n",
            "Building wheels for collected packages: serverfiles\n",
            "  Building wheel for serverfiles (setup.py) ... \u001b[?25l\u001b[?25hdone\n",
            "  Created wheel for serverfiles: filename=serverfiles-0.3.1-py3-none-any.whl size=6947 sha256=74cbd6f8c3a2fef7e6c0d1b046fa7acc5356d89debc3f34b3cf6edee511a0fc4\n",
            "  Stored in directory: /root/.cache/pip/wheels/f4/36/15/fcfe21874746d5cd17c18b1e5501fbf86544da90d4ab6afe17\n",
            "Successfully built serverfiles\n",
            "Installing collected packages: lockfile, sniffio, rfc3986, qasync, PyQt5-sip, PyQt5-Qt5, jeepney, h11, dictdiffer, cryptography, commonmark, AnyQt, SecretStorage, PyQtWebEngine-Qt5, pyqtgraph, PyQt5, orange-canvas-core, httpcore, xlsxwriter, serverfiles, PyQtWebEngine, orange-widget-base, openTSNE, keyrings.alt, keyring, httpx, baycomp, orange3\n",
            "Successfully installed AnyQt-0.0.13 PyQt5-5.15.4 PyQt5-Qt5-5.15.2 PyQt5-sip-12.9.0 PyQtWebEngine-5.15.4 PyQtWebEngine-Qt5-5.15.2 SecretStorage-3.3.1 baycomp-1.0.2 commonmark-0.9.1 cryptography-3.4.7 dictdiffer-0.9.0 h11-0.12.0 httpcore-0.12.3 httpx-0.16.1 jeepney-0.7.1 keyring-23.0.1 keyrings.alt-4.1.0 lockfile-0.12.2 openTSNE-0.6.0 orange-canvas-core-0.1.21 orange-widget-base-4.13.1 orange3-3.29.3 pyqtgraph-0.12.2 qasync-0.17.0 rfc3986-1.5.0 serverfiles-0.3.1 sniffio-1.2.0 xlsxwriter-1.4.5\n"
          ],
          "name": "stdout"
        }
      ]
    },
    {
      "cell_type": "code",
      "source": [
        ""
      ],
      "metadata": {
        "id": "Y9VoPY8_FEFz"
      },
      "execution_count": null,
      "outputs": []
    },
    {
      "cell_type": "code",
      "source": [
        ""
      ],
      "metadata": {
        "id": "VpFmHrSSFESx"
      },
      "execution_count": null,
      "outputs": []
    },
    {
      "cell_type": "code",
      "metadata": {
        "id": "dpSZclcA7rUy",
        "colab": {
          "base_uri": "https://localhost:8080/"
        },
        "outputId": "35bd0539-1019-48af-d4ab-fa6f15307202"
      },
      "source": [
        "!gdown https://drive.google.com/uc?id=126dO4VNhLpYKT0TKp18RTAGjrHAl_ZpU -O mnist.npz\n",
        "!gdown https://drive.google.com/uc?id=16wlkaf6GCGX0aJTOtzDo0ypnhqYZ7GVM -O kmnist.npz\n",
        "!gdown https://drive.google.com/uc?id=1XMH39lcD2bnwy4AW3S-4-0Ge7JIYw6CF -O eurosat.npz\n",
        "!gdown https://drive.google.com/uc?id=1BsfU84WJMRRKG3wzRZG6KuCperlLrxHc -O cifar10.npz"
      ],
      "execution_count": null,
      "outputs": [
        {
          "output_type": "stream",
          "text": [
            "Downloading...\n",
            "From: https://drive.google.com/uc?id=126dO4VNhLpYKT0TKp18RTAGjrHAl_ZpU\n",
            "To: /content/mnist.npz\n",
            "55.4MB [00:00, 119MB/s]\n",
            "Downloading...\n",
            "From: https://drive.google.com/uc?id=16wlkaf6GCGX0aJTOtzDo0ypnhqYZ7GVM\n",
            "To: /content/kmnist.npz\n",
            "55.4MB [00:00, 67.0MB/s]\n",
            "Downloading...\n",
            "From: https://drive.google.com/uc?id=1XMH39lcD2bnwy4AW3S-4-0Ge7JIYw6CF\n",
            "To: /content/eurosat.npz\n",
            "333MB [00:02, 136MB/s]\n",
            "Downloading...\n",
            "From: https://drive.google.com/uc?id=1BsfU84WJMRRKG3wzRZG6KuCperlLrxHc\n",
            "To: /content/cifar10.npz\n",
            "186MB [00:01, 118MB/s]\n"
          ],
          "name": "stdout"
        }
      ]
    },
    {
      "cell_type": "code",
      "metadata": {
        "id": "zHwZmGUNbTRf",
        "execution": {
          "iopub.status.busy": "2021-06-06T12:31:59.798357Z",
          "iopub.execute_input": "2021-06-06T12:31:59.799043Z",
          "iopub.status.idle": "2021-06-06T12:32:06.566167Z",
          "shell.execute_reply.started": "2021-06-06T12:31:59.798952Z",
          "shell.execute_reply": "2021-06-06T12:32:06.565037Z"
        },
        "trusted": true
      },
      "source": [
        "from tensorflow.keras import callbacks, optimizers\n",
        "from tensorflow.keras.utils import to_categorical\n",
        "from tensorflow.keras.preprocessing.image import ImageDataGenerator\n",
        "from tensorflow.keras import backend as K\n",
        "from tensorflow.keras.applications import InceptionV3, ResNet50V2, EfficientNetB1, DenseNet169\n",
        "from tensorflow.keras import models, layers, optimizers\n",
        "from tensorflow.keras.layers import Dense, Flatten, Dropout, Lambda, Input\n",
        "from tensorflow.image import resize\n",
        "from sklearn.preprocessing import LabelBinarizer\n",
        "from sklearn.model_selection import train_test_split\n",
        "from Orange.evaluation import compute_CD, graph_ranks\n",
        "from scipy.stats import friedmanchisquare, rankdata\n",
        "import numpy as np\n",
        "import pandas as pd\n",
        "import tensorflow as tf\n",
        "import re, os, time, requests\n",
        "import matplotlib.pyplot as plt"
      ],
      "execution_count": null,
      "outputs": []
    },
    {
      "cell_type": "code",
      "metadata": {
        "id": "7v9Woc0Ad5ix",
        "execution": {
          "iopub.status.busy": "2021-06-06T12:32:34.646706Z",
          "iopub.execute_input": "2021-06-06T12:32:34.647223Z",
          "iopub.status.idle": "2021-06-06T12:32:34.652958Z",
          "shell.execute_reply.started": "2021-06-06T12:32:34.64718Z",
          "shell.execute_reply": "2021-06-06T12:32:34.652193Z"
        },
        "trusted": true
      },
      "source": [
        "DATASETS = {\n",
        "    'mnist': {\n",
        "        'shape': (28, 28, 1),\n",
        "        'classes': 10,\n",
        "        'proposal': '(((conv*3)bnorm-pool-)*2)fc*2*128*lr-0.001',\n",
        "    },\n",
        "    'kmnist': {\n",
        "        'shape': (28, 28, 1),\n",
        "        'classes': 10,\n",
        "        'proposal': '(((conv*2)bnorm-pool-)*3)fc*2*128*lr-0.001',\n",
        "    },\n",
        "    'eurosat': {\n",
        "        'shape': (64, 64, 3),\n",
        "        'classes': 10,\n",
        "        'proposal': '(((conv*3)bnorm-pool-)*3)fc*0*64*lr-0.001',\n",
        "    },\n",
        "    'cifar10': {\n",
        "        'shape': (32, 32, 3),\n",
        "        'classes': 10,\n",
        "        'proposal': '(((conv*3)bnorm-pool-dropout)*3)fc*1*256*lr-0.001',\n",
        "    },\n",
        "}\n",
        "CNNS = ['Proposal', 'InceptionV3', 'ResNet50V2', 'EfficientNetB1', 'DenseNet169']\n",
        "NUM_SAMPLES = 10\n",
        "METRICS_URL = 'https://gemetrics.herokuapp.com/api/analysis/'"
      ],
      "execution_count": null,
      "outputs": []
    },
    {
      "cell_type": "code",
      "metadata": {
        "id": "JKOm_msFbalE",
        "execution": {
          "iopub.status.busy": "2021-06-06T12:32:34.65491Z",
          "iopub.execute_input": "2021-06-06T12:32:34.655325Z",
          "iopub.status.idle": "2021-06-06T12:32:34.675067Z",
          "shell.execute_reply.started": "2021-06-06T12:32:34.655281Z",
          "shell.execute_reply": "2021-06-06T12:32:34.674174Z"
        },
        "trusted": true
      },
      "source": [
        "def load_dataset(dataset_name):\n",
        "\n",
        "  shape = DATASETS[dataset_name]['shape']\n",
        "  dataset = np.load('%s.npz' % dataset_name, allow_pickle=True)\n",
        "\n",
        "  if dataset_name == 'eurosat':\n",
        "\n",
        "    train = dataset['train'].tolist()\n",
        "\n",
        "    train_images, train_labels = train['image'], train['label']\n",
        "\n",
        "    train_images = train_images.reshape((train_images.shape[0], *shape))\n",
        "    train_images = train_images.astype(\"float\") / 255.0\n",
        "\n",
        "    train_images, test_images, train_labels, test_labels = train_test_split(train_images, train_labels, test_size=0.2, random_state=42)\n",
        "    validation_images, test_images, validation_labels, test_labels = train_test_split(test_images, test_labels, test_size=0.2, random_state=42)\n",
        "\n",
        "  else:\n",
        "\n",
        "    train = dataset['train'].tolist()\n",
        "    test = dataset['test'].tolist()\n",
        "\n",
        "    train_images, test_images, train_labels, test_labels = train['image'], test['image'], train['label'], test['label']\n",
        "\n",
        "    train_images = train_images.reshape((train_images.shape[0], *shape))\n",
        "    train_images = train_images.astype(\"float\") / 255.0\n",
        "\n",
        "    test_images = test_images.reshape((test_images.shape[0], *shape))\n",
        "    test_images = test_images.astype(\"float\") / 255.0\n",
        "\n",
        "    validation_images, test_images, validation_labels, test_labels = train_test_split(test_images, test_labels, test_size=0.2, random_state=42)\n",
        "\n",
        "\n",
        "  lb = LabelBinarizer()\n",
        "  train_labels = lb.fit_transform(train_labels)\n",
        "  validation_labels = lb.transform(validation_labels)\n",
        "  test_labels = lb.transform(test_labels)\n",
        "\n",
        "  dataset.close()\n",
        "\n",
        "  return train_images, train_labels, validation_images, validation_labels, test_images, test_labels"
      ],
      "execution_count": null,
      "outputs": []
    },
    {
      "cell_type": "code",
      "metadata": {
        "id": "41QD3TOGjZiC",
        "execution": {
          "iopub.status.busy": "2021-06-06T12:32:34.676224Z",
          "iopub.execute_input": "2021-06-06T12:32:34.676653Z",
          "iopub.status.idle": "2021-06-06T12:32:34.691767Z",
          "shell.execute_reply.started": "2021-06-06T12:32:34.67661Z",
          "shell.execute_reply": "2021-06-06T12:32:34.690984Z"
        },
        "trusted": true
      },
      "source": [
        "def f1_score(y_true, y_pred):\n",
        "  \n",
        "  true_positives = K.sum(K.round(K.clip(y_true * y_pred, 0, 1)))\n",
        "  possible_positives = K.sum(K.round(K.clip(y_true, 0, 1)))\n",
        "  predicted_positives = K.sum(K.round(K.clip(y_pred, 0, 1)))\n",
        "  precision = true_positives / (predicted_positives + K.epsilon())\n",
        "  recall = true_positives / (possible_positives + K.epsilon())\n",
        "  f1_val = 2 * (precision * recall) / (precision + recall + K.epsilon())\n",
        "  return f1_val"
      ],
      "execution_count": null,
      "outputs": []
    },
    {
      "cell_type": "code",
      "metadata": {
        "id": "Vyko-aF4bglj",
        "execution": {
          "iopub.status.busy": "2021-06-06T12:32:34.692991Z",
          "iopub.execute_input": "2021-06-06T12:32:34.693432Z",
          "iopub.status.idle": "2021-06-06T12:32:34.707279Z",
          "shell.execute_reply.started": "2021-06-06T12:32:34.693386Z",
          "shell.execute_reply": "2021-06-06T12:32:34.706351Z"
        },
        "trusted": true
      },
      "source": [
        "def build_proposal_model(dataset):\n",
        "\n",
        "  phenotype = DATASETS[dataset]['proposal']\n",
        "\n",
        "  nconv, npool, nfc, nfcneuron = [int(i) for i in re.findall('\\d+', phenotype.split('lr-')[0])]\n",
        "  has_dropout = 'dropout' in phenotype\n",
        "  has_batch_normalization = 'bnorm' in phenotype\n",
        "  has_pool = 'pool' in phenotype\n",
        "  learning_rate = float(phenotype.split('lr-')[1])\n",
        "\n",
        "  # number of filters\n",
        "  filter_size = 32\n",
        "\n",
        "  model = models.Sequential()\n",
        "  model.add(layers.InputLayer(input_shape=DATASETS[dataset]['shape']))\n",
        "\n",
        "  # Pooling\n",
        "  for i in range(npool):\n",
        "\n",
        "      # Convolutions\n",
        "      for j in range(nconv):\n",
        "\n",
        "          model.add(layers.Conv2D(filter_size, (3, 3), activation='relu', padding='same'))\n",
        "\n",
        "          # Duplicate number of filters for each two convolutions\n",
        "          if (((i + j) % 2) == 1): filter_size = filter_size * 2\n",
        "\n",
        "          # Add batch normalization\n",
        "          if has_batch_normalization:\n",
        "              model.add(layers.BatchNormalization())\n",
        "\n",
        "      # Add pooling\n",
        "      if has_pool:\n",
        "          model.add(layers.MaxPooling2D(pool_size=(2, 2)))\n",
        "          # Add dropout\n",
        "          if has_dropout:\n",
        "              model.add(layers.Dropout(0.25))\n",
        "\n",
        "  model.add(layers.Flatten())\n",
        "\n",
        "  # fully connected\n",
        "  for i in range(nfc):\n",
        "      model.add(layers.Dense(nfcneuron))\n",
        "      model.add(layers.Activation('relu'))\n",
        "\n",
        "  if has_dropout:\n",
        "      model.add(layers.Dropout(0.5))\n",
        "\n",
        "  model.add(layers.Dense(DATASETS[dataset]['classes'], activation='softmax'))\n",
        "  model.summary()\n",
        "\n",
        "  opt = optimizers.Adam(learning_rate=learning_rate)\n",
        "\n",
        "  model.compile(loss='categorical_crossentropy', optimizer=opt, metrics=['accuracy', f1_score])\n",
        "\n",
        "  return model"
      ],
      "execution_count": null,
      "outputs": []
    },
    {
      "cell_type": "code",
      "metadata": {
        "id": "XZXyrTIHEKWR",
        "execution": {
          "iopub.status.busy": "2021-06-06T12:32:34.708839Z",
          "iopub.execute_input": "2021-06-06T12:32:34.709199Z",
          "iopub.status.idle": "2021-06-06T12:32:34.72159Z",
          "shell.execute_reply.started": "2021-06-06T12:32:34.709162Z",
          "shell.execute_reply": "2021-06-06T12:32:34.720868Z"
        },
        "trusted": true
      },
      "source": [
        "def build_cnn_model(dataset, cnn):\n",
        "\n",
        "  model = None\n",
        "  # 75x75 eh o tamanho minimo que as redes disponiveis no Keras aceitam.\n",
        "  img_w = 75\n",
        "  img_h = 75\n",
        "  input = Input(shape=DATASETS[dataset]['shape'])\n",
        "  resized_images = Lambda(lambda image: resize(image, (img_w, img_h)))(input)\n",
        "\n",
        "  params = {\n",
        "      'include_top': True, \n",
        "      'weights': None, \n",
        "      'classes': DATASETS[dataset]['classes'], \n",
        "      'input_tensor': resized_images, \n",
        "      'input_shape': (img_w, img_h, DATASETS[dataset]['shape'][2])\n",
        "  }\n",
        "\n",
        "  if 'Inception' in cnn:\n",
        "    model = InceptionV3(**params)\n",
        "  elif 'ResNet' in cnn:\n",
        "    model = ResNet50V2(**params)\n",
        "  elif 'EfficientNet' in cnn:\n",
        "    model = EfficientNetB1(**params)\n",
        "  elif 'DenseNet' in cnn:\n",
        "    model = DenseNet169(**params)\n",
        "\n",
        "  model.compile(loss='categorical_crossentropy', optimizer='adam', metrics=['accuracy', f1_score])\n",
        "\n",
        "  return model"
      ],
      "execution_count": null,
      "outputs": []
    },
    {
      "cell_type": "code",
      "metadata": {
        "id": "O6eGNXPReUoX",
        "execution": {
          "iopub.status.busy": "2021-06-06T12:32:34.723646Z",
          "iopub.execute_input": "2021-06-06T12:32:34.724143Z",
          "iopub.status.idle": "2021-06-06T12:32:34.737606Z",
          "shell.execute_reply.started": "2021-06-06T12:32:34.724111Z",
          "shell.execute_reply": "2021-06-06T12:32:34.736495Z"
        },
        "trusted": true
      },
      "source": [
        "def train_model(model, dataset):\n",
        "\n",
        "  train_images, train_labels, validation_images, \\\n",
        "    validation_labels, test_images, test_labels = load_dataset(dataset)\n",
        "\n",
        "  batch_size = 128\n",
        "  epochs = 100\n",
        "\n",
        "  train_ds = tf.data.Dataset.from_tensor_slices((train_images, train_labels)).batch(batch_size, drop_remainder=True)\n",
        "  validation_ds = tf.data.Dataset.from_tensor_slices((validation_images, validation_labels)).batch(batch_size, drop_remainder=True)\n",
        "\n",
        "  history = model.fit(train_ds,\n",
        "          epochs=epochs, \n",
        "          validation_data=validation_ds,\n",
        "          verbose=1)\n",
        "\n",
        "  loss, accuracy, f1score = model.evaluate(test_images, test_labels, verbose=1)\n",
        "\n",
        "  print(accuracy, f1score)\n",
        "\n",
        "  return accuracy, f1score"
      ],
      "execution_count": null,
      "outputs": []
    },
    {
      "cell_type": "code",
      "metadata": {
        "id": "UnEp86OdlYRX",
        "execution": {
          "iopub.status.busy": "2021-06-06T12:32:44.383894Z",
          "iopub.execute_input": "2021-06-06T12:32:44.384336Z",
          "iopub.status.idle": "2021-06-06T12:32:50.056429Z",
          "shell.execute_reply.started": "2021-06-06T12:32:44.384295Z",
          "shell.execute_reply": "2021-06-06T12:32:50.055378Z"
        },
        "trusted": true,
        "colab": {
          "base_uri": "https://localhost:8080/"
        },
        "outputId": "fd3a38d3-ed35-4d32-9eb9-3625bbe144da"
      },
      "source": [
        "tpu = tf.distribute.cluster_resolver.TPUClusterResolver.connect()\n",
        "tpu_strategy = tf.distribute.experimental.TPUStrategy(tpu)"
      ],
      "execution_count": null,
      "outputs": [
        {
          "output_type": "stream",
          "text": [
            "INFO:tensorflow:Initializing the TPU system: grpc://10.86.208.90:8470\n"
          ],
          "name": "stdout"
        },
        {
          "output_type": "stream",
          "text": [
            "INFO:tensorflow:Initializing the TPU system: grpc://10.86.208.90:8470\n"
          ],
          "name": "stderr"
        },
        {
          "output_type": "stream",
          "text": [
            "INFO:tensorflow:Clearing out eager caches\n"
          ],
          "name": "stdout"
        },
        {
          "output_type": "stream",
          "text": [
            "INFO:tensorflow:Clearing out eager caches\n"
          ],
          "name": "stderr"
        },
        {
          "output_type": "stream",
          "text": [
            "INFO:tensorflow:Finished initializing TPU system.\n"
          ],
          "name": "stdout"
        },
        {
          "output_type": "stream",
          "text": [
            "INFO:tensorflow:Finished initializing TPU system.\n",
            "WARNING:absl:`tf.distribute.experimental.TPUStrategy` is deprecated, please use  the non experimental symbol `tf.distribute.TPUStrategy` instead.\n"
          ],
          "name": "stderr"
        },
        {
          "output_type": "stream",
          "text": [
            "INFO:tensorflow:Found TPU system:\n"
          ],
          "name": "stdout"
        },
        {
          "output_type": "stream",
          "text": [
            "INFO:tensorflow:Found TPU system:\n"
          ],
          "name": "stderr"
        },
        {
          "output_type": "stream",
          "text": [
            "INFO:tensorflow:*** Num TPU Cores: 8\n"
          ],
          "name": "stdout"
        },
        {
          "output_type": "stream",
          "text": [
            "INFO:tensorflow:*** Num TPU Cores: 8\n"
          ],
          "name": "stderr"
        },
        {
          "output_type": "stream",
          "text": [
            "INFO:tensorflow:*** Num TPU Workers: 1\n"
          ],
          "name": "stdout"
        },
        {
          "output_type": "stream",
          "text": [
            "INFO:tensorflow:*** Num TPU Workers: 1\n"
          ],
          "name": "stderr"
        },
        {
          "output_type": "stream",
          "text": [
            "INFO:tensorflow:*** Num TPU Cores Per Worker: 8\n"
          ],
          "name": "stdout"
        },
        {
          "output_type": "stream",
          "text": [
            "INFO:tensorflow:*** Num TPU Cores Per Worker: 8\n"
          ],
          "name": "stderr"
        },
        {
          "output_type": "stream",
          "text": [
            "INFO:tensorflow:*** Available Device: _DeviceAttributes(/job:localhost/replica:0/task:0/device:CPU:0, CPU, 0, 0)\n"
          ],
          "name": "stdout"
        },
        {
          "output_type": "stream",
          "text": [
            "INFO:tensorflow:*** Available Device: _DeviceAttributes(/job:localhost/replica:0/task:0/device:CPU:0, CPU, 0, 0)\n"
          ],
          "name": "stderr"
        },
        {
          "output_type": "stream",
          "text": [
            "INFO:tensorflow:*** Available Device: _DeviceAttributes(/job:worker/replica:0/task:0/device:CPU:0, CPU, 0, 0)\n"
          ],
          "name": "stdout"
        },
        {
          "output_type": "stream",
          "text": [
            "INFO:tensorflow:*** Available Device: _DeviceAttributes(/job:worker/replica:0/task:0/device:CPU:0, CPU, 0, 0)\n"
          ],
          "name": "stderr"
        },
        {
          "output_type": "stream",
          "text": [
            "INFO:tensorflow:*** Available Device: _DeviceAttributes(/job:worker/replica:0/task:0/device:TPU:0, TPU, 0, 0)\n"
          ],
          "name": "stdout"
        },
        {
          "output_type": "stream",
          "text": [
            "INFO:tensorflow:*** Available Device: _DeviceAttributes(/job:worker/replica:0/task:0/device:TPU:0, TPU, 0, 0)\n"
          ],
          "name": "stderr"
        },
        {
          "output_type": "stream",
          "text": [
            "INFO:tensorflow:*** Available Device: _DeviceAttributes(/job:worker/replica:0/task:0/device:TPU:1, TPU, 0, 0)\n"
          ],
          "name": "stdout"
        },
        {
          "output_type": "stream",
          "text": [
            "INFO:tensorflow:*** Available Device: _DeviceAttributes(/job:worker/replica:0/task:0/device:TPU:1, TPU, 0, 0)\n"
          ],
          "name": "stderr"
        },
        {
          "output_type": "stream",
          "text": [
            "INFO:tensorflow:*** Available Device: _DeviceAttributes(/job:worker/replica:0/task:0/device:TPU:2, TPU, 0, 0)\n"
          ],
          "name": "stdout"
        },
        {
          "output_type": "stream",
          "text": [
            "INFO:tensorflow:*** Available Device: _DeviceAttributes(/job:worker/replica:0/task:0/device:TPU:2, TPU, 0, 0)\n"
          ],
          "name": "stderr"
        },
        {
          "output_type": "stream",
          "text": [
            "INFO:tensorflow:*** Available Device: _DeviceAttributes(/job:worker/replica:0/task:0/device:TPU:3, TPU, 0, 0)\n"
          ],
          "name": "stdout"
        },
        {
          "output_type": "stream",
          "text": [
            "INFO:tensorflow:*** Available Device: _DeviceAttributes(/job:worker/replica:0/task:0/device:TPU:3, TPU, 0, 0)\n"
          ],
          "name": "stderr"
        },
        {
          "output_type": "stream",
          "text": [
            "INFO:tensorflow:*** Available Device: _DeviceAttributes(/job:worker/replica:0/task:0/device:TPU:4, TPU, 0, 0)\n"
          ],
          "name": "stdout"
        },
        {
          "output_type": "stream",
          "text": [
            "INFO:tensorflow:*** Available Device: _DeviceAttributes(/job:worker/replica:0/task:0/device:TPU:4, TPU, 0, 0)\n"
          ],
          "name": "stderr"
        },
        {
          "output_type": "stream",
          "text": [
            "INFO:tensorflow:*** Available Device: _DeviceAttributes(/job:worker/replica:0/task:0/device:TPU:5, TPU, 0, 0)\n"
          ],
          "name": "stdout"
        },
        {
          "output_type": "stream",
          "text": [
            "INFO:tensorflow:*** Available Device: _DeviceAttributes(/job:worker/replica:0/task:0/device:TPU:5, TPU, 0, 0)\n"
          ],
          "name": "stderr"
        },
        {
          "output_type": "stream",
          "text": [
            "INFO:tensorflow:*** Available Device: _DeviceAttributes(/job:worker/replica:0/task:0/device:TPU:6, TPU, 0, 0)\n"
          ],
          "name": "stdout"
        },
        {
          "output_type": "stream",
          "text": [
            "INFO:tensorflow:*** Available Device: _DeviceAttributes(/job:worker/replica:0/task:0/device:TPU:6, TPU, 0, 0)\n"
          ],
          "name": "stderr"
        },
        {
          "output_type": "stream",
          "text": [
            "INFO:tensorflow:*** Available Device: _DeviceAttributes(/job:worker/replica:0/task:0/device:TPU:7, TPU, 0, 0)\n"
          ],
          "name": "stdout"
        },
        {
          "output_type": "stream",
          "text": [
            "INFO:tensorflow:*** Available Device: _DeviceAttributes(/job:worker/replica:0/task:0/device:TPU:7, TPU, 0, 0)\n"
          ],
          "name": "stderr"
        },
        {
          "output_type": "stream",
          "text": [
            "INFO:tensorflow:*** Available Device: _DeviceAttributes(/job:worker/replica:0/task:0/device:TPU_SYSTEM:0, TPU_SYSTEM, 0, 0)\n"
          ],
          "name": "stdout"
        },
        {
          "output_type": "stream",
          "text": [
            "INFO:tensorflow:*** Available Device: _DeviceAttributes(/job:worker/replica:0/task:0/device:TPU_SYSTEM:0, TPU_SYSTEM, 0, 0)\n"
          ],
          "name": "stderr"
        },
        {
          "output_type": "stream",
          "text": [
            "INFO:tensorflow:*** Available Device: _DeviceAttributes(/job:worker/replica:0/task:0/device:XLA_CPU:0, XLA_CPU, 0, 0)\n"
          ],
          "name": "stdout"
        },
        {
          "output_type": "stream",
          "text": [
            "INFO:tensorflow:*** Available Device: _DeviceAttributes(/job:worker/replica:0/task:0/device:XLA_CPU:0, XLA_CPU, 0, 0)\n"
          ],
          "name": "stderr"
        }
      ]
    },
    {
      "cell_type": "code",
      "metadata": {
        "id": "6JwD-VuR3KuI",
        "scrolled": true,
        "execution": {
          "iopub.status.busy": "2021-06-06T12:32:50.058722Z",
          "iopub.execute_input": "2021-06-06T12:32:50.059207Z"
        },
        "trusted": true,
        "colab": {
          "base_uri": "https://localhost:8080/"
        },
        "outputId": "758378bb-30f6-4aa1-de47-e04c2938b587"
      },
      "source": [
        "for dataset in DATASETS:\n",
        "\n",
        "  for cnn in CNNS:\n",
        "\n",
        "    while True:\n",
        "\n",
        "      r = requests.get(METRICS_URL)\n",
        "      df = pd.DataFrame.from_records(r.json())\n",
        "\n",
        "      print('Verificando dataset e cnn:', dataset, cnn)\n",
        "\n",
        "      total = len(df[(df.dataset == dataset) & (df.cnn == cnn)])\n",
        "      remain = NUM_SAMPLES - total\n",
        "\n",
        "      if remain <= 0:\n",
        "        break\n",
        "      else:\n",
        "        print('Ainda faltam amostras. Montando modelo.')\n",
        "\n",
        "        with tpu_strategy.scope():\n",
        "          if 'Proposal' in cnn:\n",
        "            model = build_proposal_model(dataset)\n",
        "          else:\n",
        "            model = build_cnn_model(dataset, cnn)\n",
        "\n",
        "        # model.summary()\n",
        "\n",
        "        print('Iniciando treinamento...')\n",
        "\n",
        "        start_time = time.time()\n",
        "\n",
        "        accuracy, f1score = train_model(model, dataset)\n",
        "\n",
        "        end_time = round(time.time() - start_time)\n",
        "\n",
        "        model_name = '%s-%s.h5' % (dataset, cnn)\n",
        "        model.save(model_name)\n",
        "        size = os.path.getsize(model_name)\n",
        "\n",
        "        data = {\n",
        "            'dataset': dataset,\n",
        "            'cnn': cnn,\n",
        "            'accuracy': accuracy,\n",
        "            'f1_score': f1score,\n",
        "            'size': size,\n",
        "            'num_layers': len(model.layers),\n",
        "            'num_params': model.count_params(),\n",
        "            'time': end_time,\n",
        "        }\n",
        "          \n",
        "        print(data)\n",
        "\n",
        "        r = requests.post(METRICS_URL, json=data)"
      ],
      "execution_count": null,
      "outputs": [
        {
          "output_type": "stream",
          "text": [
            "Verificando dataset e cnn: mnist Proposal\n",
            "Verificando dataset e cnn: mnist InceptionV3\n",
            "Verificando dataset e cnn: mnist ResNet50V2\n",
            "Verificando dataset e cnn: mnist EfficientNetB1\n",
            "Verificando dataset e cnn: mnist DenseNet169\n",
            "Verificando dataset e cnn: kmnist Proposal\n",
            "Verificando dataset e cnn: kmnist InceptionV3\n",
            "Verificando dataset e cnn: kmnist ResNet50V2\n",
            "Verificando dataset e cnn: kmnist EfficientNetB1\n",
            "Verificando dataset e cnn: kmnist DenseNet169\n",
            "Verificando dataset e cnn: eurosat Proposal\n",
            "Verificando dataset e cnn: eurosat InceptionV3\n",
            "Verificando dataset e cnn: eurosat ResNet50V2\n",
            "Verificando dataset e cnn: eurosat EfficientNetB1\n",
            "Verificando dataset e cnn: eurosat DenseNet169\n",
            "Verificando dataset e cnn: cifar10 Proposal\n",
            "Verificando dataset e cnn: cifar10 InceptionV3\n",
            "Verificando dataset e cnn: cifar10 ResNet50V2\n",
            "Verificando dataset e cnn: cifar10 EfficientNetB1\n",
            "Verificando dataset e cnn: cifar10 DenseNet169\n"
          ],
          "name": "stdout"
        }
      ]
    },
    {
      "cell_type": "code",
      "metadata": {
        "id": "-DI_obEmlfNb",
        "execution": {
          "iopub.status.busy": "2021-06-06T12:32:34.739321Z",
          "iopub.execute_input": "2021-06-06T12:32:34.739739Z",
          "iopub.status.idle": "2021-06-06T12:32:44.382335Z",
          "shell.execute_reply.started": "2021-06-06T12:32:34.739669Z",
          "shell.execute_reply": "2021-06-06T12:32:44.381212Z"
        },
        "trusted": true,
        "colab": {
          "base_uri": "https://localhost:8080/",
          "height": 739
        },
        "outputId": "39655827-fb34-4377-ed68-295a28341162"
      },
      "source": [
        "r = requests.get(METRICS_URL)\n",
        " \n",
        "df = pd.DataFrame.from_records(r.json())\n",
        "df[['accuracy', 'f1_score']] = df[['accuracy', 'f1_score']].astype(float)\n",
        "df[['size', 'num_layers', 'num_params', 'time']] = df[['size', 'num_layers', 'num_params', 'time']].astype(float).astype(int)\n",
        "df['size'] = df['size']/(1024*1024)\n",
        " \n",
        "df.groupby(['dataset', 'cnn']).agg([np.mean, np.std])"
      ],
      "execution_count": null,
      "outputs": [
        {
          "output_type": "execute_result",
          "data": {
            "text/html": [
              "<div>\n",
              "<style scoped>\n",
              "    .dataframe tbody tr th:only-of-type {\n",
              "        vertical-align: middle;\n",
              "    }\n",
              "\n",
              "    .dataframe tbody tr th {\n",
              "        vertical-align: top;\n",
              "    }\n",
              "\n",
              "    .dataframe thead tr th {\n",
              "        text-align: left;\n",
              "    }\n",
              "\n",
              "    .dataframe thead tr:last-of-type th {\n",
              "        text-align: right;\n",
              "    }\n",
              "</style>\n",
              "<table border=\"1\" class=\"dataframe\">\n",
              "  <thead>\n",
              "    <tr>\n",
              "      <th></th>\n",
              "      <th></th>\n",
              "      <th colspan=\"2\" halign=\"left\">accuracy</th>\n",
              "      <th colspan=\"2\" halign=\"left\">f1_score</th>\n",
              "      <th colspan=\"2\" halign=\"left\">size</th>\n",
              "      <th colspan=\"2\" halign=\"left\">num_layers</th>\n",
              "      <th colspan=\"2\" halign=\"left\">num_params</th>\n",
              "      <th colspan=\"2\" halign=\"left\">time</th>\n",
              "    </tr>\n",
              "    <tr>\n",
              "      <th></th>\n",
              "      <th></th>\n",
              "      <th>mean</th>\n",
              "      <th>std</th>\n",
              "      <th>mean</th>\n",
              "      <th>std</th>\n",
              "      <th>mean</th>\n",
              "      <th>std</th>\n",
              "      <th>mean</th>\n",
              "      <th>std</th>\n",
              "      <th>mean</th>\n",
              "      <th>std</th>\n",
              "      <th>mean</th>\n",
              "      <th>std</th>\n",
              "    </tr>\n",
              "    <tr>\n",
              "      <th>dataset</th>\n",
              "      <th>cnn</th>\n",
              "      <th></th>\n",
              "      <th></th>\n",
              "      <th></th>\n",
              "      <th></th>\n",
              "      <th></th>\n",
              "      <th></th>\n",
              "      <th></th>\n",
              "      <th></th>\n",
              "      <th></th>\n",
              "      <th></th>\n",
              "      <th></th>\n",
              "      <th></th>\n",
              "    </tr>\n",
              "  </thead>\n",
              "  <tbody>\n",
              "    <tr>\n",
              "      <th rowspan=\"5\" valign=\"top\">cifar10</th>\n",
              "      <th>DenseNet169</th>\n",
              "      <td>0.844350</td>\n",
              "      <td>0.012028</td>\n",
              "      <td>0.844218</td>\n",
              "      <td>0.012035</td>\n",
              "      <td>146.468286</td>\n",
              "      <td>0.000003</td>\n",
              "      <td>598</td>\n",
              "      <td>0.0</td>\n",
              "      <td>12659530</td>\n",
              "      <td>0.0</td>\n",
              "      <td>3518.6</td>\n",
              "      <td>86.260845</td>\n",
              "    </tr>\n",
              "    <tr>\n",
              "      <th>EfficientNetB1</th>\n",
              "      <td>0.759650</td>\n",
              "      <td>0.008628</td>\n",
              "      <td>0.760960</td>\n",
              "      <td>0.008731</td>\n",
              "      <td>76.503297</td>\n",
              "      <td>0.000008</td>\n",
              "      <td>343</td>\n",
              "      <td>0.0</td>\n",
              "      <td>6588049</td>\n",
              "      <td>0.0</td>\n",
              "      <td>2233.3</td>\n",
              "      <td>69.787057</td>\n",
              "    </tr>\n",
              "    <tr>\n",
              "      <th>InceptionV3</th>\n",
              "      <td>0.821200</td>\n",
              "      <td>0.011302</td>\n",
              "      <td>0.822055</td>\n",
              "      <td>0.011194</td>\n",
              "      <td>250.845446</td>\n",
              "      <td>0.003301</td>\n",
              "      <td>314</td>\n",
              "      <td>0.0</td>\n",
              "      <td>21823274</td>\n",
              "      <td>0.0</td>\n",
              "      <td>2382.0</td>\n",
              "      <td>115.595079</td>\n",
              "    </tr>\n",
              "    <tr>\n",
              "      <th>Proposal</th>\n",
              "      <td>0.864850</td>\n",
              "      <td>0.003334</td>\n",
              "      <td>0.866202</td>\n",
              "      <td>0.003357</td>\n",
              "      <td>51.180068</td>\n",
              "      <td>0.000415</td>\n",
              "      <td>29</td>\n",
              "      <td>0.0</td>\n",
              "      <td>4458282</td>\n",
              "      <td>0.0</td>\n",
              "      <td>1006.1</td>\n",
              "      <td>19.980268</td>\n",
              "    </tr>\n",
              "    <tr>\n",
              "      <th>ResNet50V2</th>\n",
              "      <td>0.784550</td>\n",
              "      <td>0.010720</td>\n",
              "      <td>0.785603</td>\n",
              "      <td>0.011119</td>\n",
              "      <td>270.464249</td>\n",
              "      <td>0.000002</td>\n",
              "      <td>193</td>\n",
              "      <td>0.0</td>\n",
              "      <td>23585290</td>\n",
              "      <td>0.0</td>\n",
              "      <td>1829.7</td>\n",
              "      <td>52.975990</td>\n",
              "    </tr>\n",
              "    <tr>\n",
              "      <th rowspan=\"5\" valign=\"top\">eurosat</th>\n",
              "      <th>DenseNet169</th>\n",
              "      <td>0.940463</td>\n",
              "      <td>0.007395</td>\n",
              "      <td>0.940734</td>\n",
              "      <td>0.007419</td>\n",
              "      <td>146.468249</td>\n",
              "      <td>0.000005</td>\n",
              "      <td>598</td>\n",
              "      <td>0.0</td>\n",
              "      <td>12659530</td>\n",
              "      <td>0.0</td>\n",
              "      <td>2008.6</td>\n",
              "      <td>91.337226</td>\n",
              "    </tr>\n",
              "    <tr>\n",
              "      <th>EfficientNetB1</th>\n",
              "      <td>0.823981</td>\n",
              "      <td>0.026602</td>\n",
              "      <td>0.824352</td>\n",
              "      <td>0.026317</td>\n",
              "      <td>76.503311</td>\n",
              "      <td>0.000000</td>\n",
              "      <td>343</td>\n",
              "      <td>0.0</td>\n",
              "      <td>6588049</td>\n",
              "      <td>0.0</td>\n",
              "      <td>1289.1</td>\n",
              "      <td>40.195218</td>\n",
              "    </tr>\n",
              "    <tr>\n",
              "      <th>InceptionV3</th>\n",
              "      <td>0.929074</td>\n",
              "      <td>0.078677</td>\n",
              "      <td>0.929193</td>\n",
              "      <td>0.078341</td>\n",
              "      <td>250.848314</td>\n",
              "      <td>0.002739</td>\n",
              "      <td>314</td>\n",
              "      <td>0.0</td>\n",
              "      <td>21823274</td>\n",
              "      <td>0.0</td>\n",
              "      <td>1398.5</td>\n",
              "      <td>11.872003</td>\n",
              "    </tr>\n",
              "    <tr>\n",
              "      <th>Proposal</th>\n",
              "      <td>0.947870</td>\n",
              "      <td>0.007510</td>\n",
              "      <td>0.948096</td>\n",
              "      <td>0.007562</td>\n",
              "      <td>30.884016</td>\n",
              "      <td>0.000090</td>\n",
              "      <td>23</td>\n",
              "      <td>0.0</td>\n",
              "      <td>2685994</td>\n",
              "      <td>0.0</td>\n",
              "      <td>842.6</td>\n",
              "      <td>12.747113</td>\n",
              "    </tr>\n",
              "    <tr>\n",
              "      <th>ResNet50V2</th>\n",
              "      <td>0.916759</td>\n",
              "      <td>0.007125</td>\n",
              "      <td>0.917174</td>\n",
              "      <td>0.007530</td>\n",
              "      <td>270.464261</td>\n",
              "      <td>0.000012</td>\n",
              "      <td>193</td>\n",
              "      <td>0.0</td>\n",
              "      <td>23585290</td>\n",
              "      <td>0.0</td>\n",
              "      <td>1096.4</td>\n",
              "      <td>17.398595</td>\n",
              "    </tr>\n",
              "    <tr>\n",
              "      <th rowspan=\"5\" valign=\"top\">kmnist</th>\n",
              "      <th>DenseNet169</th>\n",
              "      <td>0.985950</td>\n",
              "      <td>0.001092</td>\n",
              "      <td>0.986189</td>\n",
              "      <td>0.001029</td>\n",
              "      <td>146.396466</td>\n",
              "      <td>0.000004</td>\n",
              "      <td>598</td>\n",
              "      <td>0.0</td>\n",
              "      <td>12653258</td>\n",
              "      <td>0.0</td>\n",
              "      <td>4159.4</td>\n",
              "      <td>168.912995</td>\n",
              "    </tr>\n",
              "    <tr>\n",
              "      <th>EfficientNetB1</th>\n",
              "      <td>0.977650</td>\n",
              "      <td>0.003275</td>\n",
              "      <td>0.977962</td>\n",
              "      <td>0.003225</td>\n",
              "      <td>76.496513</td>\n",
              "      <td>0.000005</td>\n",
              "      <td>343</td>\n",
              "      <td>0.0</td>\n",
              "      <td>6587469</td>\n",
              "      <td>0.0</td>\n",
              "      <td>2561.1</td>\n",
              "      <td>154.852223</td>\n",
              "    </tr>\n",
              "    <tr>\n",
              "      <th>InceptionV3</th>\n",
              "      <td>0.985900</td>\n",
              "      <td>0.001329</td>\n",
              "      <td>0.986026</td>\n",
              "      <td>0.001382</td>\n",
              "      <td>250.842492</td>\n",
              "      <td>0.000002</td>\n",
              "      <td>314</td>\n",
              "      <td>0.0</td>\n",
              "      <td>21822698</td>\n",
              "      <td>0.0</td>\n",
              "      <td>2701.3</td>\n",
              "      <td>59.643478</td>\n",
              "    </tr>\n",
              "    <tr>\n",
              "      <th>Proposal</th>\n",
              "      <td>0.982750</td>\n",
              "      <td>0.001495</td>\n",
              "      <td>0.982738</td>\n",
              "      <td>0.001487</td>\n",
              "      <td>6.588457</td>\n",
              "      <td>0.000143</td>\n",
              "      <td>21</td>\n",
              "      <td>0.0</td>\n",
              "      <td>564522</td>\n",
              "      <td>0.0</td>\n",
              "      <td>873.2</td>\n",
              "      <td>29.165429</td>\n",
              "    </tr>\n",
              "    <tr>\n",
              "      <th>ResNet50V2</th>\n",
              "      <td>0.981800</td>\n",
              "      <td>0.001844</td>\n",
              "      <td>0.981980</td>\n",
              "      <td>0.001781</td>\n",
              "      <td>270.392478</td>\n",
              "      <td>0.000002</td>\n",
              "      <td>193</td>\n",
              "      <td>0.0</td>\n",
              "      <td>23579018</td>\n",
              "      <td>0.0</td>\n",
              "      <td>2044.5</td>\n",
              "      <td>39.959007</td>\n",
              "    </tr>\n",
              "    <tr>\n",
              "      <th rowspan=\"5\" valign=\"top\">mnist</th>\n",
              "      <th>DenseNet169</th>\n",
              "      <td>0.994650</td>\n",
              "      <td>0.000883</td>\n",
              "      <td>0.994643</td>\n",
              "      <td>0.000900</td>\n",
              "      <td>146.396507</td>\n",
              "      <td>0.000014</td>\n",
              "      <td>598</td>\n",
              "      <td>0.0</td>\n",
              "      <td>12653258</td>\n",
              "      <td>0.0</td>\n",
              "      <td>4044.1</td>\n",
              "      <td>166.638298</td>\n",
              "    </tr>\n",
              "    <tr>\n",
              "      <th>EfficientNetB1</th>\n",
              "      <td>0.992900</td>\n",
              "      <td>0.001329</td>\n",
              "      <td>0.992708</td>\n",
              "      <td>0.001169</td>\n",
              "      <td>76.496507</td>\n",
              "      <td>0.000008</td>\n",
              "      <td>343</td>\n",
              "      <td>0.0</td>\n",
              "      <td>6587469</td>\n",
              "      <td>0.0</td>\n",
              "      <td>2608.1</td>\n",
              "      <td>240.205676</td>\n",
              "    </tr>\n",
              "    <tr>\n",
              "      <th>InceptionV3</th>\n",
              "      <td>0.995400</td>\n",
              "      <td>0.000699</td>\n",
              "      <td>0.995238</td>\n",
              "      <td>0.000709</td>\n",
              "      <td>250.839833</td>\n",
              "      <td>0.000569</td>\n",
              "      <td>314</td>\n",
              "      <td>0.0</td>\n",
              "      <td>21822698</td>\n",
              "      <td>0.0</td>\n",
              "      <td>2672.4</td>\n",
              "      <td>96.871278</td>\n",
              "    </tr>\n",
              "    <tr>\n",
              "      <th>Proposal</th>\n",
              "      <td>0.995250</td>\n",
              "      <td>0.000825</td>\n",
              "      <td>0.995139</td>\n",
              "      <td>0.000900</td>\n",
              "      <td>12.818216</td>\n",
              "      <td>0.000031</td>\n",
              "      <td>20</td>\n",
              "      <td>0.0</td>\n",
              "      <td>1108970</td>\n",
              "      <td>0.0</td>\n",
              "      <td>886.6</td>\n",
              "      <td>34.782499</td>\n",
              "    </tr>\n",
              "    <tr>\n",
              "      <th>ResNet50V2</th>\n",
              "      <td>0.994500</td>\n",
              "      <td>0.001054</td>\n",
              "      <td>0.994251</td>\n",
              "      <td>0.001040</td>\n",
              "      <td>270.392471</td>\n",
              "      <td>0.000000</td>\n",
              "      <td>193</td>\n",
              "      <td>0.0</td>\n",
              "      <td>23579018</td>\n",
              "      <td>0.0</td>\n",
              "      <td>2022.0</td>\n",
              "      <td>62.712749</td>\n",
              "    </tr>\n",
              "  </tbody>\n",
              "</table>\n",
              "</div>"
            ],
            "text/plain": [
              "                        accuracy            f1_score  ... num_params    time            \n",
              "                            mean       std      mean  ...        std    mean         std\n",
              "dataset cnn                                           ...                               \n",
              "cifar10 DenseNet169     0.844350  0.012028  0.844218  ...        0.0  3518.6   86.260845\n",
              "        EfficientNetB1  0.759650  0.008628  0.760960  ...        0.0  2233.3   69.787057\n",
              "        InceptionV3     0.821200  0.011302  0.822055  ...        0.0  2382.0  115.595079\n",
              "        Proposal        0.864850  0.003334  0.866202  ...        0.0  1006.1   19.980268\n",
              "        ResNet50V2      0.784550  0.010720  0.785603  ...        0.0  1829.7   52.975990\n",
              "eurosat DenseNet169     0.940463  0.007395  0.940734  ...        0.0  2008.6   91.337226\n",
              "        EfficientNetB1  0.823981  0.026602  0.824352  ...        0.0  1289.1   40.195218\n",
              "        InceptionV3     0.929074  0.078677  0.929193  ...        0.0  1398.5   11.872003\n",
              "        Proposal        0.947870  0.007510  0.948096  ...        0.0   842.6   12.747113\n",
              "        ResNet50V2      0.916759  0.007125  0.917174  ...        0.0  1096.4   17.398595\n",
              "kmnist  DenseNet169     0.985950  0.001092  0.986189  ...        0.0  4159.4  168.912995\n",
              "        EfficientNetB1  0.977650  0.003275  0.977962  ...        0.0  2561.1  154.852223\n",
              "        InceptionV3     0.985900  0.001329  0.986026  ...        0.0  2701.3   59.643478\n",
              "        Proposal        0.982750  0.001495  0.982738  ...        0.0   873.2   29.165429\n",
              "        ResNet50V2      0.981800  0.001844  0.981980  ...        0.0  2044.5   39.959007\n",
              "mnist   DenseNet169     0.994650  0.000883  0.994643  ...        0.0  4044.1  166.638298\n",
              "        EfficientNetB1  0.992900  0.001329  0.992708  ...        0.0  2608.1  240.205676\n",
              "        InceptionV3     0.995400  0.000699  0.995238  ...        0.0  2672.4   96.871278\n",
              "        Proposal        0.995250  0.000825  0.995139  ...        0.0   886.6   34.782499\n",
              "        ResNet50V2      0.994500  0.001054  0.994251  ...        0.0  2022.0   62.712749\n",
              "\n",
              "[20 rows x 12 columns]"
            ]
          },
          "metadata": {
            "tags": []
          },
          "execution_count": 4
        }
      ]
    },
    {
      "cell_type": "code",
      "metadata": {
        "id": "wIRsB-LBpn9C",
        "colab": {
          "base_uri": "https://localhost:8080/",
          "height": 1000
        },
        "outputId": "ae18865f-98eb-4c93-eb5b-ab65da9e5a37"
      },
      "source": [
        "objectives = ['accuracy', 'f1_score']\n",
        "alpha = 0.05\n",
        " \n",
        "print('Null hypothesis:', 'The means of the results of two or more algorithms are the same.')\n",
        "\n",
        "for dataset in DATASETS:\n",
        "  \n",
        "  data = df[df.dataset == dataset]\n",
        "  cnns = data.cnn.unique()\n",
        "  \n",
        "  for objective in objectives:\n",
        "    \n",
        "    print('Dataset, objective:', dataset, objective)\n",
        " \n",
        "    df1 = pd.DataFrame({cnn: list(data[data.cnn == cnn][objective]) for cnn in cnns})\n",
        "    values = df1.values\n",
        "    names = df1.columns    \n",
        "\n",
        "    friedman = friedmanchisquare(*values)\n",
        "    ranks = np.array([rankdata(-p) for p in values])\n",
        "    average_ranks = np.mean(ranks, axis = 0)\n",
        "    \n",
        "    cd = compute_CD(average_ranks, n=len(df1), alpha=str(alpha), test='nemenyi')\n",
        "    \n",
        "    print('\\t', 'null hypothesis:', 'rejected' if friedman.pvalue < alpha else 'accepted')\n",
        "    print('\\t', 'p-value:', friedman.pvalue)\n",
        "    print('\\t', 'ranking:', average_ranks)\n",
        "    print('\\t', 'names:', list(names))\n",
        "    print('\\t', 'cd:', cd)\n",
        "    \n",
        "    graph_ranks(average_ranks, names=names, cd=cd)\n",
        "    # title = f'Friedman-Nemenyi (CD = {round(cd, 3)})'\n",
        "    title = f'Dataset: {dataset}, Metric: {objective}, CD: {round(cd, 3)}'\n",
        "    plt.title(title)\n",
        "    plt.savefig(f'/content/cd_{dataset}_{objective}.pdf', bbox_inches='tight')\n",
        "    plt.show()\n"
      ],
      "execution_count": null,
      "outputs": [
        {
          "output_type": "stream",
          "text": [
            "Null hypothesis: The means of the results of two or more algorithms are the same.\n",
            "Dataset, objective: mnist accuracy\n",
            "\t null hypothesis: rejected\n",
            "\t p-value: 2.0294331497727976e-06\n",
            "\t ranking: [3.55 1.7  1.4  5.   3.35]\n",
            "\t names: ['ResNet50V2', 'Proposal', 'InceptionV3', 'EfficientNetB1', 'DenseNet169']\n",
            "\t cd: 1.9288274929443536\n"
          ],
          "name": "stdout"
        },
        {
          "output_type": "display_data",
          "data": {
            "image/png": "[encoded data removed]",
            "text/plain": [
              "<Figure size 432x133.2 with 1 Axes>"
            ]
          },
          "metadata": {
            "tags": []
          }
        },
        {
          "output_type": "stream",
          "text": [
            "Dataset, objective: mnist f1_score\n",
            "\t null hypothesis: rejected\n",
            "\t p-value: 2.6894639286693956e-06\n",
            "\t ranking: [3.7  1.65 1.5  5.   3.15]\n",
            "\t names: ['ResNet50V2', 'Proposal', 'InceptionV3', 'EfficientNetB1', 'DenseNet169']\n",
            "\t cd: 1.9288274929443536\n"
          ],
          "name": "stdout"
        },
        {
          "output_type": "display_data",
          "data": {
            "image/png": "[encoded data removed]",
            "text/plain": [
              "<Figure size 432x126 with 1 Axes>"
            ]
          },
          "metadata": {
            "tags": []
          }
        },
        {
          "output_type": "stream",
          "text": [
            "Dataset, objective: kmnist accuracy\n",
            "\t null hypothesis: rejected\n",
            "\t p-value: 1.2421918944427845e-06\n",
            "\t ranking: [4.05 3.15 1.55 4.8  1.45]\n",
            "\t names: ['ResNet50V2', 'Proposal', 'InceptionV3', 'EfficientNetB1', 'DenseNet169']\n",
            "\t cd: 1.9288274929443536\n"
          ],
          "name": "stdout"
        },
        {
          "output_type": "display_data",
          "data": {
            "image/png": "[encoded data removed]",
            "text/plain": [
              "<Figure size 432x126 with 1 Axes>"
            ]
          },
          "metadata": {
            "tags": []
          }
        },
        {
          "output_type": "stream",
          "text": [
            "Dataset, objective: kmnist f1_score\n",
            "\t null hypothesis: rejected\n",
            "\t p-value: 1.3216380521919027e-06\n",
            "\t ranking: [4.05 3.15 1.7  4.8  1.3 ]\n",
            "\t names: ['ResNet50V2', 'Proposal', 'InceptionV3', 'EfficientNetB1', 'DenseNet169']\n",
            "\t cd: 1.9288274929443536\n"
          ],
          "name": "stdout"
        },
        {
          "output_type": "display_data",
          "data": {
            "image/png": "[encoded data removed]",
            "text/plain": [
              "<Figure size 432x126 with 1 Axes>"
            ]
          },
          "metadata": {
            "tags": []
          }
        },
        {
          "output_type": "stream",
          "text": [
            "Dataset, objective: eurosat accuracy\n",
            "\t null hypothesis: rejected\n",
            "\t p-value: 1.02254989076976e-06\n",
            "\t ranking: [3.9 1.9 1.4 4.9 2.9]\n",
            "\t names: ['ResNet50V2', 'Proposal', 'InceptionV3', 'EfficientNetB1', 'DenseNet169']\n",
            "\t cd: 1.9288274929443536\n"
          ],
          "name": "stdout"
        },
        {
          "output_type": "display_data",
          "data": {
            "image/png": "[encoded data removed]",
            "text/plain": [
              "<Figure size 432x133.2 with 1 Axes>"
            ]
          },
          "metadata": {
            "tags": []
          }
        },
        {
          "output_type": "stream",
          "text": [
            "Dataset, objective: eurosat f1_score\n",
            "\t null hypothesis: rejected\n",
            "\t p-value: 1.2649166092899542e-06\n",
            "\t ranking: [3.9 1.9 1.4 4.9 2.9]\n",
            "\t names: ['ResNet50V2', 'Proposal', 'InceptionV3', 'EfficientNetB1', 'DenseNet169']\n",
            "\t cd: 1.9288274929443536\n"
          ],
          "name": "stdout"
        },
        {
          "output_type": "display_data",
          "data": {
            "image/png": "[encoded data removed]",
            "text/plain": [
              "<Figure size 432x133.2 with 1 Axes>"
            ]
          },
          "metadata": {
            "tags": []
          }
        },
        {
          "output_type": "stream",
          "text": [
            "Dataset, objective: cifar10 accuracy\n",
            "\t null hypothesis: rejected\n",
            "\t p-value: 1.041984444602479e-06\n",
            "\t ranking: [4. 1. 3. 5. 2.]\n",
            "\t names: ['ResNet50V2', 'Proposal', 'InceptionV3', 'EfficientNetB1', 'DenseNet169']\n",
            "\t cd: 1.9288274929443536\n"
          ],
          "name": "stdout"
        },
        {
          "output_type": "display_data",
          "data": {
            "image/png": "[encoded data removed]",
            "text/plain": [
              "<Figure size 432x140.4 with 1 Axes>"
            ]
          },
          "metadata": {
            "tags": []
          }
        },
        {
          "output_type": "stream",
          "text": [
            "Dataset, objective: cifar10 f1_score\n",
            "\t null hypothesis: rejected\n",
            "\t p-value: 2.122730027772513e-06\n",
            "\t ranking: [4. 1. 3. 5. 2.]\n",
            "\t names: ['ResNet50V2', 'Proposal', 'InceptionV3', 'EfficientNetB1', 'DenseNet169']\n",
            "\t cd: 1.9288274929443536\n"
          ],
          "name": "stdout"
        },
        {
          "output_type": "display_data",
          "data": {
            "image/png": "[encoded data removed]",
            "text/plain": [
              "<Figure size 432x140.4 with 1 Axes>"
            ]
          },
          "metadata": {
            "tags": []
          }
        }
      ]
    },
    {
      "cell_type": "code",
      "metadata": {
        "colab": {
          "base_uri": "https://localhost:8080/"
        },
        "id": "rwbNzTHjrknF",
        "outputId": "c03a2f85-3c04-4bb6-a4cb-db46c0a913b3"
      },
      "source": [
        "!tar -cvzf plots.tar.gz /content/*.pdf"
      ],
      "execution_count": null,
      "outputs": [
        {
          "output_type": "stream",
          "text": [
            "tar: Removing leading `/' from member names\n",
            "/content/cd_cifar10_accuracy.pdf\n",
            "/content/cd_cifar10_f1_score.pdf\n",
            "/content/cd_eurosat_accuracy.pdf\n",
            "/content/cd_eurosat_f1_score.pdf\n",
            "/content/cd_kmnist_accuracy.pdf\n",
            "/content/cd_kmnist_f1_score.pdf\n",
            "/content/cd_mnist_accuracy.pdf\n",
            "/content/cd_mnist_f1_score.pdf\n"
          ],
          "name": "stdout"
        }
      ]
    }
  ]
}