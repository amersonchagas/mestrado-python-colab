{
  "cells": [
    {
      "cell_type": "markdown",
      "metadata": {
        "id": "Qe3IoZ338PDk"
      },
      "source": [
        "#Libs and datasets"
      ]
    },
    {
      "cell_type": "code",
      "execution_count": null,
      "metadata": {
        "colab": {
          "base_uri": "https://localhost:8080/",
          "height": 1000
        },
        "id": "WB0yRPKCbWya",
        "outputId": "32257314-9da2-4484-a950-183668794555"
      },
      "outputs": [
        {
          "output_type": "stream",
          "name": "stdout",
          "text": [
            "Requirement already satisfied: gdown in /usr/local/lib/python3.7/dist-packages (4.2.0)\n",
            "Requirement already satisfied: requests[socks] in /usr/local/lib/python3.7/dist-packages (from gdown) (2.23.0)\n",
            "Requirement already satisfied: beautifulsoup4 in /usr/local/lib/python3.7/dist-packages (from gdown) (4.6.3)\n",
            "Requirement already satisfied: six in /usr/local/lib/python3.7/dist-packages (from gdown) (1.15.0)\n",
            "Requirement already satisfied: tqdm in /usr/local/lib/python3.7/dist-packages (from gdown) (4.62.3)\n",
            "Requirement already satisfied: filelock in /usr/local/lib/python3.7/dist-packages (from gdown) (3.4.2)\n",
            "Requirement already satisfied: chardet<4,>=3.0.2 in /usr/local/lib/python3.7/dist-packages (from requests[socks]->gdown) (3.0.4)\n",
            "Requirement already satisfied: urllib3!=1.25.0,!=1.25.1,<1.26,>=1.21.1 in /usr/local/lib/python3.7/dist-packages (from requests[socks]->gdown) (1.24.3)\n",
            "Requirement already satisfied: idna<3,>=2.5 in /usr/local/lib/python3.7/dist-packages (from requests[socks]->gdown) (2.10)\n",
            "Requirement already satisfied: certifi>=2017.4.17 in /usr/local/lib/python3.7/dist-packages (from requests[socks]->gdown) (2021.10.8)\n",
            "Requirement already satisfied: PySocks!=1.5.7,>=1.5.6 in /usr/local/lib/python3.7/dist-packages (from requests[socks]->gdown) (1.7.1)\n",
            "Collecting orange3\n",
            "  Downloading Orange3-3.31.1-cp37-cp37m-manylinux_2_17_x86_64.manylinux2014_x86_64.whl (28.6 MB)\n",
            "\u001b[K     |████████████████████████████████| 28.6 MB 1.5 MB/s \n",
            "\u001b[?25hRequirement already satisfied: networkx in /usr/local/lib/python3.7/dist-packages (from orange3) (2.6.3)\n",
            "Requirement already satisfied: python-louvain>=0.13 in /usr/local/lib/python3.7/dist-packages (from orange3) (0.15)\n",
            "Requirement already satisfied: setuptools>=36.3 in /usr/local/lib/python3.7/dist-packages (from orange3) (57.4.0)\n",
            "Requirement already satisfied: matplotlib>=2.0.0 in /usr/local/lib/python3.7/dist-packages (from orange3) (3.2.2)\n",
            "Requirement already satisfied: scikit-learn!=1.0.0,>0.23.0 in /usr/local/lib/python3.7/dist-packages (from orange3) (1.0.2)\n",
            "Collecting orange-canvas-core<0.2a,>=0.1.24\n",
            "  Downloading orange_canvas_core-0.1.24-py3-none-any.whl (491 kB)\n",
            "\u001b[K     |████████████████████████████████| 491 kB 66.6 MB/s \n",
            "\u001b[?25hCollecting pygments>=2.8.0\n",
            "  Downloading Pygments-2.11.2-py3-none-any.whl (1.1 MB)\n",
            "\u001b[K     |████████████████████████████████| 1.1 MB 55.2 MB/s \n",
            "\u001b[?25hCollecting AnyQt>=0.0.11\n",
            "  Downloading AnyQt-0.0.13-py3-none-any.whl (47 kB)\n",
            "\u001b[K     |████████████████████████████████| 47 kB 4.4 MB/s \n",
            "\u001b[?25hRequirement already satisfied: bottleneck>=1.0.0 in /usr/local/lib/python3.7/dist-packages (from orange3) (1.3.2)\n",
            "Collecting PyQtWebEngine>=5.12\n",
            "  Downloading PyQtWebEngine-5.15.5-cp36-abi3-manylinux1_x86_64.whl (228 kB)\n",
            "\u001b[K     |████████████████████████████████| 228 kB 69.2 MB/s \n",
            "\u001b[?25hCollecting baycomp>=1.0.2\n",
            "  Downloading baycomp-1.0.2-py3-none-any.whl (17 kB)\n",
            "Requirement already satisfied: numpy>=1.16.0 in /usr/local/lib/python3.7/dist-packages (from orange3) (1.19.5)\n",
            "Collecting httpx<0.20,>=0.14.0\n",
            "  Downloading httpx-0.19.0-py3-none-any.whl (77 kB)\n",
            "\u001b[K     |████████████████████████████████| 77 kB 5.2 MB/s \n",
            "\u001b[?25hRequirement already satisfied: scipy>=0.16.1 in /usr/local/lib/python3.7/dist-packages (from orange3) (1.4.1)\n",
            "Requirement already satisfied: requests in /usr/local/lib/python3.7/dist-packages (from orange3) (2.23.0)\n",
            "Collecting orange-widget-base>=4.16.1\n",
            "  Downloading orange_widget_base-4.16.1-py3-none-any.whl (252 kB)\n",
            "\u001b[K     |████████████████████████████████| 252 kB 66.8 MB/s \n",
            "\u001b[?25hRequirement already satisfied: pip>=9.0 in /usr/local/lib/python3.7/dist-packages (from orange3) (21.1.3)\n",
            "Requirement already satisfied: chardet>=3.0.2 in /usr/local/lib/python3.7/dist-packages (from orange3) (3.0.4)\n",
            "Collecting pyqtgraph>=0.11.1\n",
            "  Downloading pyqtgraph-0.12.3-py3-none-any.whl (992 kB)\n",
            "\u001b[K     |████████████████████████████████| 992 kB 69.9 MB/s \n",
            "\u001b[?25hRequirement already satisfied: pandas>=1.1.0 in /usr/local/lib/python3.7/dist-packages (from orange3) (1.3.5)\n",
            "Collecting keyrings.alt\n",
            "  Downloading keyrings.alt-4.1.0-py3-none-any.whl (20 kB)\n",
            "Collecting openTSNE>=0.6.1\n",
            "  Downloading openTSNE-0.6.1-cp37-cp37m-manylinux_2_12_x86_64.manylinux2010_x86_64.whl (2.4 MB)\n",
            "\u001b[K     |████████████████████████████████| 2.4 MB 47.2 MB/s \n",
            "\u001b[?25hRequirement already satisfied: openpyxl in /usr/local/lib/python3.7/dist-packages (from orange3) (2.5.9)\n",
            "Collecting keyring\n",
            "  Downloading keyring-23.5.0-py3-none-any.whl (33 kB)\n",
            "Collecting serverfiles\n",
            "  Downloading serverfiles-0.3.1.tar.gz (11 kB)\n",
            "Requirement already satisfied: joblib>=0.9.4 in /usr/local/lib/python3.7/dist-packages (from orange3) (1.1.0)\n",
            "Requirement already satisfied: pyyaml in /usr/local/lib/python3.7/dist-packages (from orange3) (3.13)\n",
            "Requirement already satisfied: xlrd>=0.9.2 in /usr/local/lib/python3.7/dist-packages (from orange3) (1.1.0)\n",
            "Collecting PyQt5!=5.15.1,>=5.12\n",
            "  Downloading PyQt5-5.15.6-cp36-abi3-manylinux1_x86_64.whl (8.3 MB)\n",
            "\u001b[K     |████████████████████████████████| 8.3 MB 38.6 MB/s \n",
            "\u001b[?25hCollecting xlsxwriter\n",
            "  Downloading XlsxWriter-3.0.2-py3-none-any.whl (149 kB)\n",
            "\u001b[K     |████████████████████████████████| 149 kB 43.4 MB/s \n",
            "\u001b[?25hRequirement already satisfied: qtconsole>=4.7.2 in /usr/local/lib/python3.7/dist-packages (from orange3) (5.2.2)\n",
            "Requirement already satisfied: charset-normalizer in /usr/local/lib/python3.7/dist-packages (from httpx<0.20,>=0.14.0->orange3) (2.0.11)\n",
            "Collecting rfc3986[idna2008]<2,>=1.3\n",
            "  Downloading rfc3986-1.5.0-py2.py3-none-any.whl (31 kB)\n",
            "Collecting sniffio\n",
            "  Downloading sniffio-1.2.0-py3-none-any.whl (10 kB)\n",
            "Collecting httpcore<0.14.0,>=0.13.3\n",
            "  Downloading httpcore-0.13.7-py3-none-any.whl (58 kB)\n",
            "\u001b[K     |████████████████████████████████| 58 kB 4.8 MB/s \n",
            "\u001b[?25hRequirement already satisfied: certifi in /usr/local/lib/python3.7/dist-packages (from httpx<0.20,>=0.14.0->orange3) (2021.10.8)\n",
            "Collecting h11<0.13,>=0.11\n",
            "  Downloading h11-0.12.0-py3-none-any.whl (54 kB)\n",
            "\u001b[K     |████████████████████████████████| 54 kB 1.3 MB/s \n",
            "\u001b[?25hCollecting anyio==3.*\n",
            "  Downloading anyio-3.5.0-py3-none-any.whl (79 kB)\n",
            "\u001b[K     |████████████████████████████████| 79 kB 6.0 MB/s \n",
            "\u001b[?25hRequirement already satisfied: idna>=2.8 in /usr/local/lib/python3.7/dist-packages (from anyio==3.*->httpcore<0.14.0,>=0.13.3->httpx<0.20,>=0.14.0->orange3) (2.10)\n",
            "Requirement already satisfied: typing-extensions in /usr/local/lib/python3.7/dist-packages (from anyio==3.*->httpcore<0.14.0,>=0.13.3->httpx<0.20,>=0.14.0->orange3) (3.10.0.2)\n",
            "Requirement already satisfied: cycler>=0.10 in /usr/local/lib/python3.7/dist-packages (from matplotlib>=2.0.0->orange3) (0.11.0)\n",
            "Requirement already satisfied: python-dateutil>=2.1 in /usr/local/lib/python3.7/dist-packages (from matplotlib>=2.0.0->orange3) (2.8.2)\n",
            "Requirement already satisfied: kiwisolver>=1.0.1 in /usr/local/lib/python3.7/dist-packages (from matplotlib>=2.0.0->orange3) (1.3.2)\n",
            "Requirement already satisfied: pyparsing!=2.0.4,!=2.1.2,!=2.1.6,>=2.0.1 in /usr/local/lib/python3.7/dist-packages (from matplotlib>=2.0.0->orange3) (3.0.7)\n",
            "Requirement already satisfied: docutils in /usr/local/lib/python3.7/dist-packages (from orange-canvas-core<0.2a,>=0.1.24->orange3) (0.17.1)\n",
            "Collecting qasync\n",
            "  Downloading qasync-0.22.0-py3-none-any.whl (13 kB)\n",
            "Collecting commonmark>=0.8.1\n",
            "  Downloading commonmark-0.9.1-py2.py3-none-any.whl (51 kB)\n",
            "\u001b[K     |████████████████████████████████| 51 kB 5.1 MB/s \n",
            "\u001b[?25hCollecting dictdiffer\n",
            "  Downloading dictdiffer-0.9.0-py2.py3-none-any.whl (16 kB)\n",
            "Requirement already satisfied: cachecontrol[filecache] in /usr/local/lib/python3.7/dist-packages (from orange-canvas-core<0.2a,>=0.1.24->orange3) (0.12.10)\n",
            "Requirement already satisfied: importlib-metadata in /usr/local/lib/python3.7/dist-packages (from orange-canvas-core<0.2a,>=0.1.24->orange3) (4.10.1)\n",
            "Requirement already satisfied: pytz>=2017.3 in /usr/local/lib/python3.7/dist-packages (from pandas>=1.1.0->orange3) (2018.9)\n",
            "Collecting PyQt5-Qt5>=5.15.2\n",
            "  Downloading PyQt5_Qt5-5.15.2-py3-none-manylinux2014_x86_64.whl (59.9 MB)\n",
            "\u001b[K     |████████████████████████████████| 59.9 MB 97 kB/s \n",
            "\u001b[?25hCollecting PyQt5-sip<13,>=12.8\n",
            "  Downloading PyQt5_sip-12.9.1-cp37-cp37m-manylinux1_x86_64.whl (338 kB)\n",
            "\u001b[K     |████████████████████████████████| 338 kB 23.3 MB/s \n",
            "\u001b[?25hCollecting PyQtWebEngine-Qt5>=5.15.2\n",
            "  Downloading PyQtWebEngine_Qt5-5.15.2-py3-none-manylinux2014_x86_64.whl (67.5 MB)\n",
            "\u001b[K     |████████████████████████████████| 67.5 MB 71 kB/s \n",
            "\u001b[?25hRequirement already satisfied: six>=1.5 in /usr/local/lib/python3.7/dist-packages (from python-dateutil>=2.1->matplotlib>=2.0.0->orange3) (1.15.0)\n",
            "Requirement already satisfied: traitlets in /usr/local/lib/python3.7/dist-packages (from qtconsole>=4.7.2->orange3) (5.1.1)\n",
            "Requirement already satisfied: jupyter-core in /usr/local/lib/python3.7/dist-packages (from qtconsole>=4.7.2->orange3) (4.9.1)\n",
            "Requirement already satisfied: ipython-genutils in /usr/local/lib/python3.7/dist-packages (from qtconsole>=4.7.2->orange3) (0.2.0)\n",
            "Requirement already satisfied: pyzmq>=17.1 in /usr/local/lib/python3.7/dist-packages (from qtconsole>=4.7.2->orange3) (22.3.0)\n",
            "Requirement already satisfied: jupyter-client>=4.1 in /usr/local/lib/python3.7/dist-packages (from qtconsole>=4.7.2->orange3) (5.3.5)\n",
            "Requirement already satisfied: ipykernel>=4.1 in /usr/local/lib/python3.7/dist-packages (from qtconsole>=4.7.2->orange3) (4.10.1)\n",
            "Requirement already satisfied: qtpy in /usr/local/lib/python3.7/dist-packages (from qtconsole>=4.7.2->orange3) (2.0.0)\n",
            "Requirement already satisfied: tornado>=4.0 in /usr/local/lib/python3.7/dist-packages (from ipykernel>=4.1->qtconsole>=4.7.2->orange3) (5.1.1)\n",
            "Requirement already satisfied: ipython>=4.0.0 in /usr/local/lib/python3.7/dist-packages (from ipykernel>=4.1->qtconsole>=4.7.2->orange3) (5.5.0)\n",
            "Requirement already satisfied: decorator in /usr/local/lib/python3.7/dist-packages (from ipython>=4.0.0->ipykernel>=4.1->qtconsole>=4.7.2->orange3) (4.4.2)\n",
            "Requirement already satisfied: simplegeneric>0.8 in /usr/local/lib/python3.7/dist-packages (from ipython>=4.0.0->ipykernel>=4.1->qtconsole>=4.7.2->orange3) (0.8.1)\n",
            "Requirement already satisfied: pexpect in /usr/local/lib/python3.7/dist-packages (from ipython>=4.0.0->ipykernel>=4.1->qtconsole>=4.7.2->orange3) (4.8.0)\n",
            "Requirement already satisfied: prompt-toolkit<2.0.0,>=1.0.4 in /usr/local/lib/python3.7/dist-packages (from ipython>=4.0.0->ipykernel>=4.1->qtconsole>=4.7.2->orange3) (1.0.18)\n",
            "Requirement already satisfied: pickleshare in /usr/local/lib/python3.7/dist-packages (from ipython>=4.0.0->ipykernel>=4.1->qtconsole>=4.7.2->orange3) (0.7.5)\n",
            "Requirement already satisfied: wcwidth in /usr/local/lib/python3.7/dist-packages (from prompt-toolkit<2.0.0,>=1.0.4->ipython>=4.0.0->ipykernel>=4.1->qtconsole>=4.7.2->orange3) (0.2.5)\n",
            "Requirement already satisfied: threadpoolctl>=2.0.0 in /usr/local/lib/python3.7/dist-packages (from scikit-learn!=1.0.0,>0.23.0->orange3) (3.0.0)\n",
            "Requirement already satisfied: msgpack>=0.5.2 in /usr/local/lib/python3.7/dist-packages (from cachecontrol[filecache]->orange-canvas-core<0.2a,>=0.1.24->orange3) (1.0.3)\n",
            "Collecting lockfile>=0.9\n",
            "  Downloading lockfile-0.12.2-py2.py3-none-any.whl (13 kB)\n",
            "Requirement already satisfied: zipp>=0.5 in /usr/local/lib/python3.7/dist-packages (from importlib-metadata->orange-canvas-core<0.2a,>=0.1.24->orange3) (3.7.0)\n",
            "Collecting SecretStorage>=3.2\n",
            "  Downloading SecretStorage-3.3.1-py3-none-any.whl (15 kB)\n",
            "Collecting jeepney>=0.4.2\n",
            "  Downloading jeepney-0.7.1-py3-none-any.whl (54 kB)\n",
            "\u001b[K     |████████████████████████████████| 54 kB 1.4 MB/s \n",
            "\u001b[?25hCollecting cryptography>=2.0\n",
            "  Downloading cryptography-36.0.1-cp36-abi3-manylinux_2_24_x86_64.whl (3.6 MB)\n",
            "\u001b[K     |████████████████████████████████| 3.6 MB 23.0 MB/s \n",
            "\u001b[?25hRequirement already satisfied: cffi>=1.12 in /usr/local/lib/python3.7/dist-packages (from cryptography>=2.0->SecretStorage>=3.2->keyring->orange3) (1.15.0)\n",
            "Requirement already satisfied: pycparser in /usr/local/lib/python3.7/dist-packages (from cffi>=1.12->cryptography>=2.0->SecretStorage>=3.2->keyring->orange3) (2.21)\n",
            "Requirement already satisfied: et-xmlfile in /usr/local/lib/python3.7/dist-packages (from openpyxl->orange3) (1.1.0)\n",
            "Requirement already satisfied: jdcal in /usr/local/lib/python3.7/dist-packages (from openpyxl->orange3) (1.4.1)\n",
            "Requirement already satisfied: ptyprocess>=0.5 in /usr/local/lib/python3.7/dist-packages (from pexpect->ipython>=4.0.0->ipykernel>=4.1->qtconsole>=4.7.2->orange3) (0.7.0)\n",
            "Requirement already satisfied: packaging in /usr/local/lib/python3.7/dist-packages (from qtpy->qtconsole>=4.7.2->orange3) (21.3)\n",
            "Requirement already satisfied: urllib3!=1.25.0,!=1.25.1,<1.26,>=1.21.1 in /usr/local/lib/python3.7/dist-packages (from requests->orange3) (1.24.3)\n",
            "Building wheels for collected packages: serverfiles\n",
            "  Building wheel for serverfiles (setup.py) ... \u001b[?25l\u001b[?25hdone\n",
            "  Created wheel for serverfiles: filename=serverfiles-0.3.1-py3-none-any.whl size=6948 sha256=73b17c02723b71442d01f2014952df4db881793132a6dc32e4aa53bc17228779\n",
            "  Stored in directory: /root/.cache/pip/wheels/f4/36/15/fcfe21874746d5cd17c18b1e5501fbf86544da90d4ab6afe17\n",
            "Successfully built serverfiles\n",
            "Installing collected packages: sniffio, pygments, lockfile, rfc3986, qasync, PyQt5-sip, PyQt5-Qt5, jeepney, h11, dictdiffer, cryptography, commonmark, AnyQt, anyio, SecretStorage, PyQtWebEngine-Qt5, pyqtgraph, PyQt5, orange-canvas-core, httpcore, xlsxwriter, serverfiles, PyQtWebEngine, orange-widget-base, openTSNE, keyrings.alt, keyring, httpx, baycomp, orange3\n",
            "  Attempting uninstall: pygments\n",
            "    Found existing installation: Pygments 2.6.1\n",
            "    Uninstalling Pygments-2.6.1:\n",
            "      Successfully uninstalled Pygments-2.6.1\n",
            "\u001b[31mERROR: pip's dependency resolver does not currently take into account all the packages that are installed. This behaviour is the source of the following dependency conflicts.\n",
            "datascience 0.10.6 requires folium==0.2.1, but you have folium 0.8.3 which is incompatible.\u001b[0m\n",
            "Successfully installed AnyQt-0.0.13 PyQt5-5.15.6 PyQt5-Qt5-5.15.2 PyQt5-sip-12.9.1 PyQtWebEngine-5.15.5 PyQtWebEngine-Qt5-5.15.2 SecretStorage-3.3.1 anyio-3.5.0 baycomp-1.0.2 commonmark-0.9.1 cryptography-36.0.1 dictdiffer-0.9.0 h11-0.12.0 httpcore-0.13.7 httpx-0.19.0 jeepney-0.7.1 keyring-23.5.0 keyrings.alt-4.1.0 lockfile-0.12.2 openTSNE-0.6.1 orange-canvas-core-0.1.24 orange-widget-base-4.16.1 orange3-3.31.1 pygments-2.11.2 pyqtgraph-0.12.3 qasync-0.22.0 rfc3986-1.5.0 serverfiles-0.3.1 sniffio-1.2.0 xlsxwriter-3.0.2\n"
          ]
        },
        {
          "output_type": "display_data",
          "data": {
            "application/vnd.colab-display-data+json": {
              "pip_warning": {
                "packages": [
                  "pygments"
                ]
              }
            }
          },
          "metadata": {}
        }
      ],
      "source": [
        "!pip install gdown\n",
        "!pip install orange3"
      ]
    },
    {
      "cell_type": "code",
      "execution_count": null,
      "metadata": {
        "colab": {
          "base_uri": "https://localhost:8080/"
        },
        "id": "dpSZclcA7rUy",
        "outputId": "90ac6419-97ee-42ce-e988-c2e435a216a8"
      },
      "outputs": [
        {
          "output_type": "stream",
          "name": "stdout",
          "text": [
            "Downloading...\n",
            "From: https://drive.google.com/uc?id=126dO4VNhLpYKT0TKp18RTAGjrHAl_ZpU\n",
            "To: /content/mnist.npz\n",
            "100% 55.4M/55.4M [00:00<00:00, 108MB/s]\n",
            "Downloading...\n",
            "From: https://drive.google.com/uc?id=16wlkaf6GCGX0aJTOtzDo0ypnhqYZ7GVM\n",
            "To: /content/kmnist.npz\n",
            "100% 55.4M/55.4M [00:00<00:00, 145MB/s]\n",
            "Downloading...\n",
            "From: https://drive.google.com/uc?id=1XMH39lcD2bnwy4AW3S-4-0Ge7JIYw6CF\n",
            "To: /content/eurosat.npz\n",
            "100% 333M/333M [00:02<00:00, 127MB/s]\n",
            "Downloading...\n",
            "From: https://drive.google.com/uc?id=1BsfU84WJMRRKG3wzRZG6KuCperlLrxHc\n",
            "To: /content/cifar10.npz\n",
            "100% 186M/186M [00:01<00:00, 135MB/s]\n",
            "Downloading...\n",
            "From: https://drive.google.com/uc?id=1MvPjY4m58TW51NZbUIl5tRJbERKMnIk7\n",
            "To: /content/pathmnist.npz\n",
            "100% 206M/206M [00:01<00:00, 125MB/s]\n",
            "Downloading...\n",
            "From: https://drive.google.com/uc?id=146WDl2VzVdLhnJl5JqYqKVyDPlDQoLDl\n",
            "To: /content/octmnist.npz\n",
            "100% 54.9M/54.9M [00:01<00:00, 43.1MB/s]\n",
            "Downloading...\n",
            "From: https://drive.google.com/uc?id=1BIJFOn5ivB766qNIZdI2Owt8GAmpsmic\n",
            "To: /content/organmnist_axial.npz\n",
            "100% 38.2M/38.2M [00:00<00:00, 66.5MB/s]\n"
          ]
        }
      ],
      "source": [
        "!gdown https://drive.google.com/uc?id=126dO4VNhLpYKT0TKp18RTAGjrHAl_ZpU -O mnist.npz\n",
        "!gdown https://drive.google.com/uc?id=16wlkaf6GCGX0aJTOtzDo0ypnhqYZ7GVM -O kmnist.npz\n",
        "!gdown https://drive.google.com/uc?id=1XMH39lcD2bnwy4AW3S-4-0Ge7JIYw6CF -O eurosat.npz\n",
        "!gdown https://drive.google.com/uc?id=1BsfU84WJMRRKG3wzRZG6KuCperlLrxHc -O cifar10.npz\n",
        "!gdown https://drive.google.com/uc?id=1MvPjY4m58TW51NZbUIl5tRJbERKMnIk7 -O pathmnist.npz\n",
        "!gdown https://drive.google.com/uc?id=146WDl2VzVdLhnJl5JqYqKVyDPlDQoLDl -O octmnist.npz\n",
        "!gdown https://drive.google.com/uc?id=1BIJFOn5ivB766qNIZdI2Owt8GAmpsmic -O organmnist_axial.npz"
      ]
    },
    {
      "cell_type": "code",
      "execution_count": null,
      "metadata": {
        "id": "zHwZmGUNbTRf"
      },
      "outputs": [],
      "source": [
        "from tensorflow.keras import callbacks, optimizers\n",
        "from tensorflow.keras.utils import to_categorical\n",
        "from tensorflow.keras.preprocessing.image import ImageDataGenerator\n",
        "from tensorflow.keras import backend as K\n",
        "from tensorflow.keras.applications import InceptionV3, ResNet50V2, EfficientNetB1, DenseNet169\n",
        "from tensorflow.keras import models, layers, optimizers\n",
        "from tensorflow.keras.layers import Dense, Flatten, Dropout, Lambda, Input\n",
        "from tensorflow.image import resize\n",
        "from sklearn.preprocessing import LabelBinarizer\n",
        "from sklearn.model_selection import train_test_split\n",
        "from Orange.evaluation import compute_CD, graph_ranks\n",
        "from scipy.stats import friedmanchisquare, rankdata\n",
        "import numpy as np\n",
        "import pandas as pd\n",
        "import tensorflow as tf\n",
        "import re, os, time, requests\n",
        "import matplotlib.pyplot as plt"
      ]
    },
    {
      "cell_type": "markdown",
      "metadata": {
        "id": "EhvasHsa8VPv"
      },
      "source": [
        "#Configs"
      ]
    },
    {
      "cell_type": "code",
      "execution_count": null,
      "metadata": {
        "id": "UXE-7P_oKP3G"
      },
      "outputs": [],
      "source": [
        "DATASETS = {\n",
        "    'cifar10': {\n",
        "        'shape': (32, 32, 3),\n",
        "        'classes': 10,\n",
        "        'proposal': '3(Conv BNorm),(Conv ),(Conv BNorm),(MaxPool Dropout),(Flatten),(Fc 1 512 Dropout),(Softmax),(Lr 0.001)',\n",
        "        'De Lima': 'Conv2D 128 5 tanh , MaxPooling2D 6 same , Dropout 0.2 , Dense 32 , Dense 128 ,',\n",
        "        'Diniz': '(((conv*1)pool)*3)fc*0',\n",
        "        'Silva': '(((conv*3)bnorm-pool-dropout)*3)fc*1*256*lr-0.001',\n",
        "        'Assuncao': 'layer:conv 128 2 1 same relu 0 1 1, layer:conv 256 3 1 same sigmoid 0 0 0, layer:pool-max 5 2 same, layer:conv 64 4 1 same sigmoid 1 1 1, layer:pool-avg 3 1 valid, layer:conv 256 5 1 same relu 0 0 1, layer:fc linear 1024 1, layer:fc linear 128 0, layer:fc relu 512 1, layer:fc sigmoid 128 0, layer:fc softmax, learning:gradient_descent 0.1'\n",
        "    },\n",
        "    'mnist': {\n",
        "        'shape': (28, 28, 1),\n",
        "        'classes': 10,\n",
        "        'proposal': '3(Conv BNorm),(Conv ),(Conv BNorm),(MaxPool Dropout),(Flatten),(Fc 1 64 Dropout),(Softmax),(Lr 0.0001)',\n",
        "        'De Lima': 'Conv2D 16 7 tanh , MaxPooling2D 2 same , Conv2D 32 3 elu , Dropout 0.6 , Dense 64 ,',\n",
        "        'Diniz': '(((conv*1)pool)*2)fc*0',\n",
        "        'Silva': '(((conv*2)bnorm-pool-dropout)*2)fc*2*512*lr-0.0001',\n",
        "        'Assuncao': 'layer:conv 32 2 1 same relu 0 1 1, layer:conv 128 3 1 same linear 0 1 0, layer:pool-max 5 2 same, layer:conv 256 3 1 same linear 1 0 0, layer:pool-max 4 1 valid, layer:conv 256 5 2 valid linear 1 1 1, layer:fc linear 256 1, layer:fc relu 1024 1, layer:fc linear 1024 1, layer:fc linear 256 0, layer:fc linear 2048 1, layer:fc linear 2048 1, layer:fc sigmoid 1024 1, layer:fc softmax, learning:gradient_descent 0.1'\n",
        "    },\n",
        "    'eurosat': {\n",
        "        'shape': (64, 64, 3),\n",
        "        'classes': 10,\n",
        "        'proposal': '3(Conv ),(Conv BNorm),(Conv ),(MaxPool Dropout),(Flatten),(Fc 1 128 Dropout),(Softmax),(Lr 0.0001)',\n",
        "        'De Lima': 'Conv2D 64 3 selu , MaxPooling2D 4 same , Conv2D 64 3 selu ,  MaxPooling2D 6 same ,  AveragePooling2D 4 same , MaxPooling2D 4 same ,  Dropout 0.1 , Dense 32 ,',\n",
        "        'Diniz': '(((conv*1)pool)*3)fc*2',\n",
        "        'Silva': '(((conv*3)bnorm-pool-)*3)fc*0*64*lr-0.001',\n",
        "        'Assuncao': 'layer:conv 32 2 1 same relu 1 1 1, layer:pool-max 4 1 same, layer:conv 128 1 2 same relu 1 0 1, layer:conv 128 5 1 same relu 0 1 1, layer:conv 128 5 2 same relu 1 0 1, layer:pool-max 5 3 valid, layer:pool-avg 2 1 valid, layer:fc sigmoid 128 0, layer:fc sigmoid 1024 1, layer:fc softmax, learning:gradient_descent 0.1'\n",
        "    },\n",
        "}\n",
        "CNNS = ['Proposal', 'Lima et al. (2019)', 'Diniz et al. (2018)', 'Assunção et al. (2018)', 'Silva et al. (2021)', 'ResNet50V2', 'EfficientNetB1', 'InceptionV3', 'DenseNet169']\n",
        "PAPER_NAME = 'wcci'\n",
        "NUM_SAMPLES = 20\n",
        "METRICS_URL = 'https://c50b-2804-954-3da-da00-406a-9e5a-8132-20ac.ngrok.io/api/analysis/'"
      ]
    },
    {
      "cell_type": "markdown",
      "metadata": {
        "id": "oKmIcKBj8eO-"
      },
      "source": [
        "#Factories"
      ]
    },
    {
      "cell_type": "code",
      "execution_count": null,
      "metadata": {
        "id": "JKOm_msFbalE"
      },
      "outputs": [],
      "source": [
        "def load_dataset(dataset_name):\n",
        "\n",
        "  shape = DATASETS[dataset_name]['shape']\n",
        "  dataset = np.load('%s.npz' % dataset_name, allow_pickle=True)\n",
        "\n",
        "  if dataset_name == 'eurosat':\n",
        "      \n",
        "    print('eurosat')\n",
        "    \n",
        "    train = dataset['train'].tolist()\n",
        "\n",
        "    train_images, train_labels = train['image'], train['label']\n",
        "\n",
        "    train_images = train_images.reshape((train_images.shape[0], *shape))\n",
        "    train_images = train_images.astype(\"float\") / 255.0\n",
        "\n",
        "    train_images, test_images, train_labels, test_labels = train_test_split(train_images, train_labels, test_size=0.2, random_state=42)\n",
        "    validation_images, test_images, validation_labels, test_labels = train_test_split(test_images, test_labels, test_size=0.2, random_state=42)\n",
        "\n",
        "  elif dataset_name in ['pathmnist', 'octmnist', 'organmnist_axial']:\n",
        "      \n",
        "    print('medmnist:', dataset_name)\n",
        "    \n",
        "    train_images = dataset['train_images']\n",
        "    validation_images = dataset['val_images']\n",
        "    test_images = dataset['test_images']\n",
        "    train_labels = dataset['train_labels']\n",
        "    validation_labels = dataset['val_labels']\n",
        "    test_labels = dataset['test_labels']\n",
        "\n",
        "    if shape[2] == 1:\n",
        "      train_images = train_images.reshape((train_images.shape[0], 28, 28, 1))\n",
        "      validation_images = validation_images.reshape((validation_images.shape[0], 28, 28, 1))\n",
        "      test_images = test_images.reshape((test_images.shape[0], 28, 28, 1))\n",
        "\n",
        "    train_images = train_images.astype(\"float\") / 255.0\n",
        "    test_images = test_images.astype(\"float\") / 255.0\n",
        "    validation_images = validation_images.astype(\"float\") / 255.0\n",
        "\n",
        "  else:\n",
        "      \n",
        "    print('outros:', dataset_name)\n",
        "    \n",
        "    train = dataset['train'].tolist()\n",
        "    test = dataset['test'].tolist()\n",
        "\n",
        "    train_images, test_images, train_labels, test_labels = train['image'], test['image'], train['label'], test['label']\n",
        "\n",
        "    train_images = train_images.reshape((train_images.shape[0], *shape))\n",
        "    train_images = train_images.astype(\"float\") / 255.0\n",
        "\n",
        "    test_images = test_images.reshape((test_images.shape[0], *shape))\n",
        "    test_images = test_images.astype(\"float\") / 255.0\n",
        "\n",
        "    validation_images, test_images, validation_labels, test_labels = train_test_split(test_images, test_labels, test_size=0.2, random_state=42)\n",
        "\n",
        "  lb = LabelBinarizer()\n",
        "  train_labels = lb.fit_transform(train_labels)\n",
        "  validation_labels = lb.transform(validation_labels)\n",
        "  test_labels = lb.transform(test_labels)\n",
        "\n",
        "  dataset.close()\n",
        "\n",
        "  return train_images, train_labels, validation_images, validation_labels, test_images, test_labels"
      ]
    },
    {
      "cell_type": "code",
      "execution_count": null,
      "metadata": {
        "id": "41QD3TOGjZiC"
      },
      "outputs": [],
      "source": [
        "def f1_score(y_true, y_pred):\n",
        "  \n",
        "  true_positives = K.sum(K.round(K.clip(y_true * y_pred, 0, 1)))\n",
        "  possible_positives = K.sum(K.round(K.clip(y_true, 0, 1)))\n",
        "  predicted_positives = K.sum(K.round(K.clip(y_pred, 0, 1)))\n",
        "  precision = true_positives / (predicted_positives + K.epsilon())\n",
        "  recall = true_positives / (possible_positives + K.epsilon())\n",
        "  f1_val = 2 * (precision * recall) / (precision + recall + K.epsilon())\n",
        "  return f1_val"
      ]
    },
    {
      "cell_type": "code",
      "execution_count": null,
      "metadata": {
        "id": "tkzRA2jI6rZY"
      },
      "outputs": [],
      "source": [
        "def build_assuncao_model(dataset):\n",
        "\n",
        "    phenotype = DATASETS[dataset]['Assuncao']\n",
        "    dataset_shape = DATASETS[dataset]['shape']\n",
        "    dataset_classes = DATASETS[dataset]['classes']\n",
        "\n",
        "    model = models.Sequential()\n",
        "    model.add(layers.InputLayer(input_shape=dataset_shape))\n",
        "\n",
        "    learning_rate = None\n",
        "    parts = phenotype.split(', ')\n",
        "\n",
        "    for part in parts:\n",
        "\n",
        "        sections = part.split(' ')\n",
        "\n",
        "        if 'layer:conv' in part:\n",
        "            padding = sections[4]\n",
        "            activation = sections[5]\n",
        "            num_filters, filter_shape, stride, bias, bnorm, merge = [int(i) for i in re.findall('\\d+', part)]\n",
        "            model.add(layers.Conv2D(num_filters, (filter_shape, filter_shape), strides=(stride, stride), use_bias=bool(bias), activation=activation, padding=padding))\n",
        "            if bnorm:\n",
        "                model.add(layers.BatchNormalization())\n",
        "        elif 'layer:pool' in part:\n",
        "            padding = sections[3]\n",
        "            kernel_size, stride = [int(i) for i in re.findall('\\d+', part)]\n",
        "            if 'avg' in part:\n",
        "                model.add(layers.AveragePooling2D(pool_size=(kernel_size, kernel_size), strides=(stride, stride), padding=padding))\n",
        "            elif 'max' in part:\n",
        "                model.add(layers.MaxPooling2D(pool_size=(kernel_size, kernel_size), strides=(stride, stride), padding=padding))\n",
        "        elif 'layer:fc' in part:\n",
        "            if 'Flatten' not in ''.join([str(l.__class__) for l in model.layers]):\n",
        "                model.add(layers.Flatten())\n",
        "            activation = sections[1]\n",
        "            if 'softmax' in activation:\n",
        "                model.add(layers.Dense(dataset_classes, activation=activation))\n",
        "            else:\n",
        "                num_units, bias = [int(i) for i in re.findall('\\d+', part)]\n",
        "                model.add(layers.Dense(num_units, activation=activation, use_bias=bool(bias)))\n",
        "        elif 'learning' in part:\n",
        "            learning_rate = float(sections[1])\n",
        "\n",
        "    opt = optimizers.SGD(learning_rate=learning_rate)\n",
        "\n",
        "    return model, opt"
      ]
    },
    {
      "cell_type": "code",
      "execution_count": null,
      "metadata": {
        "id": "Mtu5VNU07NjI"
      },
      "outputs": [],
      "source": [
        "def build_delima_model(dataset):\n",
        "\n",
        "    phenotype = DATASETS[dataset]['De Lima']\n",
        "    dataset_shape = DATASETS[dataset]['shape']\n",
        "    dataset_classes = DATASETS[dataset]['classes']\n",
        "\n",
        "    model = models.Sequential()\n",
        "    model.add(layers.InputLayer(input_shape=dataset_shape))\n",
        "\n",
        "    parts = phenotype.split(',')\n",
        "    dense_count = 0\n",
        "\n",
        "    for part in parts:\n",
        "\n",
        "        part = part.strip()\n",
        "\n",
        "        if 'Conv2D' in part:\n",
        "\n",
        "            _, filters, k_size, activation = part.split(' ')\n",
        "            filters = int(filters)\n",
        "            k_size = int(k_size)\n",
        "            model.add(layers.Conv2D(filters, (k_size, k_size), activation=activation))\n",
        "\n",
        "        elif 'MaxPooling2D' in part:\n",
        "\n",
        "            _, p_size, padding = part.split(' ')\n",
        "            p_size = int(p_size)\n",
        "            model.add(layers.MaxPooling2D(pool_size=(p_size, p_size), padding=padding))\n",
        "\n",
        "        elif 'AveragePooling2D' in part:\n",
        "\n",
        "            _, p_size, padding = part.split(' ')\n",
        "            p_size = int(p_size)\n",
        "            model.add(layers.AveragePooling2D(pool_size=(p_size, p_size), padding=padding))\n",
        "\n",
        "        elif 'Dropout' in part:\n",
        "\n",
        "            _, rate = part.split(' ')\n",
        "            rate = float(rate)\n",
        "            model.add(layers.Dropout(rate))\n",
        "\n",
        "        elif 'Dense' in part:\n",
        "\n",
        "            _, neurons = part.split(' ')\n",
        "            neurons = int(neurons)\n",
        "\n",
        "            if dense_count == 0:\n",
        "                model.add(layers.Flatten())\n",
        "\n",
        "            model.add(layers.Dense(neurons))\n",
        "\n",
        "            dense_count += 1\n",
        "\n",
        "    model.add(layers.Dense(dataset_classes, activation='softmax'))\n",
        "\n",
        "    opt = optimizers.Adam(learning_rate=0.01)\n",
        "\n",
        "    return model, opt"
      ]
    },
    {
      "cell_type": "code",
      "execution_count": null,
      "metadata": {
        "id": "OTrTywNb9VG2"
      },
      "outputs": [],
      "source": [
        "def build_diniz_model(dataset):\n",
        "\n",
        "    phenotype = DATASETS[dataset]['Diniz']\n",
        "    dataset_shape = DATASETS[dataset]['shape']\n",
        "    dataset_classes = DATASETS[dataset]['classes']\n",
        "\n",
        "    model = models.Sequential()\n",
        "    model.add(layers.InputLayer(input_shape=dataset_shape))\n",
        "\n",
        "    nconv, npool, nfc = [int(i) for i in re.findall('\\d+', phenotype)]\n",
        "    has_pool = 'pool' in phenotype\n",
        "\n",
        "    filter_size = 32\n",
        "\n",
        "    # Pooling\n",
        "    for i in range(npool):\n",
        "\n",
        "        # Convolutions\n",
        "        for j in range(nconv):\n",
        "\n",
        "            model.add(layers.Conv2D(filter_size, (3, 3), activation='relu', padding='same'))\n",
        "\n",
        "            # Duplicate number of filters for each two convolutions\n",
        "            if (((i + j) % 2) == 1): filter_size = filter_size * 2\n",
        "\n",
        "        # Add pooling\n",
        "        if has_pool:\n",
        "            model.add(layers.MaxPooling2D(pool_size=(2, 2)))\n",
        "\n",
        "\n",
        "    model.add(layers.Flatten())\n",
        "\n",
        "    # fully connected\n",
        "    for i in range(nfc):\n",
        "        model.add(layers.Dense(256))\n",
        "        model.add(layers.Activation('relu'))\n",
        "\n",
        "    model.add(layers.Dense(dataset_classes, activation='softmax'))\n",
        "\n",
        "    opt = optimizers.Adam(learning_rate=0.01)\n",
        "\n",
        "    return model, opt"
      ]
    },
    {
      "cell_type": "code",
      "execution_count": null,
      "metadata": {
        "id": "Vyko-aF4bglj"
      },
      "outputs": [],
      "source": [
        "def build_proposal_model(dataset):\n",
        "\n",
        "    phenotype = DATASETS[dataset]['proposal']\n",
        "    dataset_shape = DATASETS[dataset]['shape']\n",
        "    dataset_classes = DATASETS[dataset]['classes']\n",
        "\n",
        "    model = models.Sequential()\n",
        "    model.add(layers.InputLayer(input_shape=dataset_shape))\n",
        "\n",
        "    learning_rate = None\n",
        "    filter_size = 32\n",
        "    nconvs = 0\n",
        "\n",
        "    nblocks = int(phenotype[0])\n",
        "\n",
        "    for n in range(nblocks):\n",
        "\n",
        "        for block in phenotype.split(','):\n",
        "\n",
        "            if 'Conv' in block:\n",
        "\n",
        "                if nconvs == 2:\n",
        "                    filter_size *= 2\n",
        "                    nconvs = 0\n",
        "\n",
        "                model.add(layers.Conv2D(filter_size, (3, 3), activation='relu', padding='same'))\n",
        "\n",
        "                if 'BNorm' in block:\n",
        "                    model.add(layers.BatchNormalization())\n",
        "\n",
        "                nconvs += 1\n",
        "\n",
        "            if 'MaxPool' in block:\n",
        "                model.add(layers.MaxPooling2D(pool_size=(2, 2)))\n",
        "\n",
        "                if 'Dropout' in block:\n",
        "                    model.add(layers.Dropout(0.25))\n",
        "\n",
        "\n",
        "    for block in phenotype.split(','):\n",
        "\n",
        "        if 'Flatten' in block:\n",
        "            model.add(layers.Flatten())\n",
        "\n",
        "        if 'Fc' in block:\n",
        "\n",
        "            nfc, neurons = re.findall('\\d+', block)\n",
        "\n",
        "            for n in range(int(nfc)):\n",
        "                model.add(layers.Dense(int(neurons)))\n",
        "                model.add(layers.Activation('relu'))\n",
        "\n",
        "            if 'Dropout' in block:\n",
        "                model.add(layers.Dropout(0.5))\n",
        "\n",
        "        if 'Softmax' in block:\n",
        "            model.add(layers.Dense(dataset_classes, activation='softmax'))\n",
        "\n",
        "        if 'Lr' in block:\n",
        "            args = re.findall('\\d+\\.\\d+', block)\n",
        "            learning_rate = float(args[0])\n",
        "\n",
        "\n",
        "    opt = optimizers.Adam(learning_rate=learning_rate)\n",
        "\n",
        "    return model, opt"
      ]
    },
    {
      "cell_type": "code",
      "execution_count": null,
      "metadata": {
        "id": "kQEKzjs78zaA"
      },
      "outputs": [],
      "source": [
        "def build_cec21_model(dataset):\n",
        "\n",
        "    phenotype = DATASETS[dataset]['Silva']\n",
        "    dataset_shape = DATASETS[dataset]['shape']\n",
        "    dataset_classes = DATASETS[dataset]['classes']\n",
        "\n",
        "    nconv, npool, nfc, nfcneuron = [int(i) for i in re.findall('\\d+', phenotype.split('lr-')[0])]\n",
        "    has_dropout = 'dropout' in phenotype\n",
        "    has_batch_normalization = 'bnorm' in phenotype\n",
        "    has_pool = 'pool' in phenotype\n",
        "    learning_rate = float(phenotype.split('lr-')[1])\n",
        "\n",
        "    # number of filters\n",
        "    filter_size = 32\n",
        "\n",
        "    model = models.Sequential()\n",
        "    model.add(layers.InputLayer(input_shape=dataset_shape))\n",
        "\n",
        "    # Pooling\n",
        "    for i in range(npool):\n",
        "\n",
        "        # Convolutions\n",
        "        for j in range(nconv):\n",
        "\n",
        "            model.add(layers.Conv2D(filter_size, (3, 3), activation='relu', padding='same'))\n",
        "\n",
        "            # Duplicate number of filters for each two convolutions\n",
        "            if (((i + j) % 2) == 1): filter_size = filter_size * 2\n",
        "\n",
        "            # Add batch normalization\n",
        "            if has_batch_normalization:\n",
        "                model.add(layers.BatchNormalization())\n",
        "\n",
        "        # Add pooling\n",
        "        if has_pool:\n",
        "            model.add(layers.MaxPooling2D(pool_size=(2, 2)))\n",
        "            # Add dropout\n",
        "            if has_dropout:\n",
        "                model.add(layers.Dropout(0.25))\n",
        "\n",
        "    model.add(layers.Flatten())\n",
        "\n",
        "    # fully connected\n",
        "    for i in range(nfc):\n",
        "        model.add(layers.Dense(nfcneuron))\n",
        "        model.add(layers.Activation('relu'))\n",
        "\n",
        "    if has_dropout:\n",
        "        model.add(layers.Dropout(0.5))\n",
        "\n",
        "    model.add(layers.Dense(dataset_classes, activation='softmax'))\n",
        "\n",
        "    opt = optimizers.Adam(learning_rate=learning_rate)\n",
        "\n",
        "    return model, opt"
      ]
    },
    {
      "cell_type": "code",
      "execution_count": null,
      "metadata": {
        "id": "XZXyrTIHEKWR"
      },
      "outputs": [],
      "source": [
        "def build_cnn_model(dataset, cnn):\n",
        "\n",
        "  model = None\n",
        "  # 75x75 eh o tamanho minimo que as redes disponiveis no Keras aceitam.\n",
        "  img_w = 75\n",
        "  img_h = 75\n",
        "  input = Input(shape=DATASETS[dataset]['shape'])\n",
        "  resized_images = Lambda(lambda image: resize(image, (img_w, img_h)))(input)\n",
        "\n",
        "  params = {\n",
        "      'include_top': True, \n",
        "      'weights': None, \n",
        "      'classes': DATASETS[dataset]['classes'], \n",
        "      'input_tensor': resized_images, \n",
        "      'input_shape': (img_w, img_h, DATASETS[dataset]['shape'][2])\n",
        "  }\n",
        "\n",
        "  if 'Inception' in cnn:\n",
        "    model = InceptionV3(**params)\n",
        "  elif 'ResNet' in cnn:\n",
        "    model = ResNet50V2(**params)\n",
        "  elif 'EfficientNet' in cnn:\n",
        "    model = EfficientNetB1(**params)\n",
        "  elif 'DenseNet' in cnn:\n",
        "    model = DenseNet169(**params)\n",
        "\n",
        "  opt = optimizers.Adam(learning_rate=0.001)\n",
        "\n",
        "  return model, opt"
      ]
    },
    {
      "cell_type": "markdown",
      "metadata": {
        "id": "W-KjZKEH8j3a"
      },
      "source": [
        "#Train"
      ]
    },
    {
      "cell_type": "code",
      "execution_count": null,
      "metadata": {
        "id": "O6eGNXPReUoX"
      },
      "outputs": [],
      "source": [
        "def train_model(model, dataset):\n",
        "\n",
        "  train_images, train_labels, validation_images, \\\n",
        "    validation_labels, test_images, test_labels = load_dataset(dataset)\n",
        "\n",
        "  batch_size = 128\n",
        "  epochs = 100\n",
        "\n",
        "  train_ds = tf.data.Dataset.from_tensor_slices((train_images, train_labels)).batch(batch_size, drop_remainder=True)\n",
        "  validation_ds = tf.data.Dataset.from_tensor_slices((validation_images, validation_labels)).batch(batch_size, drop_remainder=True)\n",
        "\n",
        "  history = model.fit(train_ds,\n",
        "          epochs=epochs, \n",
        "          validation_data=validation_ds,\n",
        "          verbose=1)\n",
        "\n",
        "  loss, accuracy, f1score = model.evaluate(test_images, test_labels, verbose=1)\n",
        "\n",
        "  print(accuracy, f1score)\n",
        "\n",
        "  return accuracy, f1score"
      ]
    },
    {
      "cell_type": "code",
      "execution_count": null,
      "metadata": {
        "colab": {
          "base_uri": "https://localhost:8080/"
        },
        "id": "UnEp86OdlYRX",
        "outputId": "7751e920-8528-4e70-def8-cbc8897ba2bd"
      },
      "outputs": [
        {
          "output_type": "stream",
          "name": "stdout",
          "text": [
            "INFO:tensorflow:Deallocate tpu buffers before initializing tpu system.\n"
          ]
        },
        {
          "output_type": "stream",
          "name": "stderr",
          "text": [
            "INFO:tensorflow:Deallocate tpu buffers before initializing tpu system.\n"
          ]
        },
        {
          "output_type": "stream",
          "name": "stdout",
          "text": [
            "INFO:tensorflow:Initializing the TPU system: grpc://10.44.78.210:8470\n"
          ]
        },
        {
          "output_type": "stream",
          "name": "stderr",
          "text": [
            "INFO:tensorflow:Initializing the TPU system: grpc://10.44.78.210:8470\n"
          ]
        },
        {
          "output_type": "stream",
          "name": "stdout",
          "text": [
            "INFO:tensorflow:Finished initializing TPU system.\n"
          ]
        },
        {
          "output_type": "stream",
          "name": "stderr",
          "text": [
            "INFO:tensorflow:Finished initializing TPU system.\n",
            "WARNING:absl:`tf.distribute.experimental.TPUStrategy` is deprecated, please use  the non experimental symbol `tf.distribute.TPUStrategy` instead.\n"
          ]
        },
        {
          "output_type": "stream",
          "name": "stdout",
          "text": [
            "INFO:tensorflow:Found TPU system:\n"
          ]
        },
        {
          "output_type": "stream",
          "name": "stderr",
          "text": [
            "INFO:tensorflow:Found TPU system:\n"
          ]
        },
        {
          "output_type": "stream",
          "name": "stdout",
          "text": [
            "INFO:tensorflow:*** Num TPU Cores: 8\n"
          ]
        },
        {
          "output_type": "stream",
          "name": "stderr",
          "text": [
            "INFO:tensorflow:*** Num TPU Cores: 8\n"
          ]
        },
        {
          "output_type": "stream",
          "name": "stdout",
          "text": [
            "INFO:tensorflow:*** Num TPU Workers: 1\n"
          ]
        },
        {
          "output_type": "stream",
          "name": "stderr",
          "text": [
            "INFO:tensorflow:*** Num TPU Workers: 1\n"
          ]
        },
        {
          "output_type": "stream",
          "name": "stdout",
          "text": [
            "INFO:tensorflow:*** Num TPU Cores Per Worker: 8\n"
          ]
        },
        {
          "output_type": "stream",
          "name": "stderr",
          "text": [
            "INFO:tensorflow:*** Num TPU Cores Per Worker: 8\n"
          ]
        },
        {
          "output_type": "stream",
          "name": "stdout",
          "text": [
            "INFO:tensorflow:*** Available Device: _DeviceAttributes(/job:localhost/replica:0/task:0/device:CPU:0, CPU, 0, 0)\n"
          ]
        },
        {
          "output_type": "stream",
          "name": "stderr",
          "text": [
            "INFO:tensorflow:*** Available Device: _DeviceAttributes(/job:localhost/replica:0/task:0/device:CPU:0, CPU, 0, 0)\n"
          ]
        },
        {
          "output_type": "stream",
          "name": "stdout",
          "text": [
            "INFO:tensorflow:*** Available Device: _DeviceAttributes(/job:worker/replica:0/task:0/device:CPU:0, CPU, 0, 0)\n"
          ]
        },
        {
          "output_type": "stream",
          "name": "stderr",
          "text": [
            "INFO:tensorflow:*** Available Device: _DeviceAttributes(/job:worker/replica:0/task:0/device:CPU:0, CPU, 0, 0)\n"
          ]
        },
        {
          "output_type": "stream",
          "name": "stdout",
          "text": [
            "INFO:tensorflow:*** Available Device: _DeviceAttributes(/job:worker/replica:0/task:0/device:TPU:0, TPU, 0, 0)\n"
          ]
        },
        {
          "output_type": "stream",
          "name": "stderr",
          "text": [
            "INFO:tensorflow:*** Available Device: _DeviceAttributes(/job:worker/replica:0/task:0/device:TPU:0, TPU, 0, 0)\n"
          ]
        },
        {
          "output_type": "stream",
          "name": "stdout",
          "text": [
            "INFO:tensorflow:*** Available Device: _DeviceAttributes(/job:worker/replica:0/task:0/device:TPU:1, TPU, 0, 0)\n"
          ]
        },
        {
          "output_type": "stream",
          "name": "stderr",
          "text": [
            "INFO:tensorflow:*** Available Device: _DeviceAttributes(/job:worker/replica:0/task:0/device:TPU:1, TPU, 0, 0)\n"
          ]
        },
        {
          "output_type": "stream",
          "name": "stdout",
          "text": [
            "INFO:tensorflow:*** Available Device: _DeviceAttributes(/job:worker/replica:0/task:0/device:TPU:2, TPU, 0, 0)\n"
          ]
        },
        {
          "output_type": "stream",
          "name": "stderr",
          "text": [
            "INFO:tensorflow:*** Available Device: _DeviceAttributes(/job:worker/replica:0/task:0/device:TPU:2, TPU, 0, 0)\n"
          ]
        },
        {
          "output_type": "stream",
          "name": "stdout",
          "text": [
            "INFO:tensorflow:*** Available Device: _DeviceAttributes(/job:worker/replica:0/task:0/device:TPU:3, TPU, 0, 0)\n"
          ]
        },
        {
          "output_type": "stream",
          "name": "stderr",
          "text": [
            "INFO:tensorflow:*** Available Device: _DeviceAttributes(/job:worker/replica:0/task:0/device:TPU:3, TPU, 0, 0)\n"
          ]
        },
        {
          "output_type": "stream",
          "name": "stdout",
          "text": [
            "INFO:tensorflow:*** Available Device: _DeviceAttributes(/job:worker/replica:0/task:0/device:TPU:4, TPU, 0, 0)\n"
          ]
        },
        {
          "output_type": "stream",
          "name": "stderr",
          "text": [
            "INFO:tensorflow:*** Available Device: _DeviceAttributes(/job:worker/replica:0/task:0/device:TPU:4, TPU, 0, 0)\n"
          ]
        },
        {
          "output_type": "stream",
          "name": "stdout",
          "text": [
            "INFO:tensorflow:*** Available Device: _DeviceAttributes(/job:worker/replica:0/task:0/device:TPU:5, TPU, 0, 0)\n"
          ]
        },
        {
          "output_type": "stream",
          "name": "stderr",
          "text": [
            "INFO:tensorflow:*** Available Device: _DeviceAttributes(/job:worker/replica:0/task:0/device:TPU:5, TPU, 0, 0)\n"
          ]
        },
        {
          "output_type": "stream",
          "name": "stdout",
          "text": [
            "INFO:tensorflow:*** Available Device: _DeviceAttributes(/job:worker/replica:0/task:0/device:TPU:6, TPU, 0, 0)\n"
          ]
        },
        {
          "output_type": "stream",
          "name": "stderr",
          "text": [
            "INFO:tensorflow:*** Available Device: _DeviceAttributes(/job:worker/replica:0/task:0/device:TPU:6, TPU, 0, 0)\n"
          ]
        },
        {
          "output_type": "stream",
          "name": "stdout",
          "text": [
            "INFO:tensorflow:*** Available Device: _DeviceAttributes(/job:worker/replica:0/task:0/device:TPU:7, TPU, 0, 0)\n"
          ]
        },
        {
          "output_type": "stream",
          "name": "stderr",
          "text": [
            "INFO:tensorflow:*** Available Device: _DeviceAttributes(/job:worker/replica:0/task:0/device:TPU:7, TPU, 0, 0)\n"
          ]
        },
        {
          "output_type": "stream",
          "name": "stdout",
          "text": [
            "INFO:tensorflow:*** Available Device: _DeviceAttributes(/job:worker/replica:0/task:0/device:TPU_SYSTEM:0, TPU_SYSTEM, 0, 0)\n"
          ]
        },
        {
          "output_type": "stream",
          "name": "stderr",
          "text": [
            "INFO:tensorflow:*** Available Device: _DeviceAttributes(/job:worker/replica:0/task:0/device:TPU_SYSTEM:0, TPU_SYSTEM, 0, 0)\n"
          ]
        },
        {
          "output_type": "stream",
          "name": "stdout",
          "text": [
            "INFO:tensorflow:*** Available Device: _DeviceAttributes(/job:worker/replica:0/task:0/device:XLA_CPU:0, XLA_CPU, 0, 0)\n"
          ]
        },
        {
          "output_type": "stream",
          "name": "stderr",
          "text": [
            "INFO:tensorflow:*** Available Device: _DeviceAttributes(/job:worker/replica:0/task:0/device:XLA_CPU:0, XLA_CPU, 0, 0)\n"
          ]
        }
      ],
      "source": [
        "tpu = tf.distribute.cluster_resolver.TPUClusterResolver.connect()\n",
        "tpu_strategy = tf.distribute.experimental.TPUStrategy(tpu)"
      ]
    },
    {
      "cell_type": "code",
      "execution_count": null,
      "metadata": {
        "colab": {
          "base_uri": "https://localhost:8080/"
        },
        "id": "6JwD-VuR3KuI",
        "scrolled": true,
        "outputId": "dab9fb60-4038-4bb3-d369-09593e976edd"
      },
      "outputs": [
        {
          "output_type": "stream",
          "name": "stdout",
          "text": [
            "Verificando dataset e cnn: cifar10 Proposal\n",
            "Verificando dataset e cnn: cifar10 Lima et al. (2019)\n",
            "Verificando dataset e cnn: cifar10 Diniz et al. (2018)\n",
            "Verificando dataset e cnn: cifar10 Assunção et al. (2018)\n",
            "Verificando dataset e cnn: cifar10 Silva et al. (2021)\n",
            "Verificando dataset e cnn: cifar10 ResNet50V2\n",
            "Verificando dataset e cnn: cifar10 EfficientNetB1\n",
            "Verificando dataset e cnn: cifar10 InceptionV3\n",
            "Verificando dataset e cnn: cifar10 DenseNet169\n",
            "Verificando dataset e cnn: mnist Proposal\n",
            "Verificando dataset e cnn: mnist Lima et al. (2019)\n",
            "Verificando dataset e cnn: mnist Diniz et al. (2018)\n",
            "Verificando dataset e cnn: mnist Assunção et al. (2018)\n",
            "Verificando dataset e cnn: mnist Silva et al. (2021)\n",
            "Verificando dataset e cnn: mnist ResNet50V2\n",
            "Verificando dataset e cnn: mnist EfficientNetB1\n",
            "Verificando dataset e cnn: mnist InceptionV3\n",
            "Verificando dataset e cnn: mnist DenseNet169\n",
            "Verificando dataset e cnn: eurosat Proposal\n",
            "Verificando dataset e cnn: eurosat Lima et al. (2019)\n",
            "Verificando dataset e cnn: eurosat Diniz et al. (2018)\n",
            "Verificando dataset e cnn: eurosat Assunção et al. (2018)\n",
            "Verificando dataset e cnn: eurosat Silva et al. (2021)\n",
            "Verificando dataset e cnn: eurosat ResNet50V2\n",
            "Verificando dataset e cnn: eurosat EfficientNetB1\n",
            "Verificando dataset e cnn: eurosat InceptionV3\n",
            "Verificando dataset e cnn: eurosat DenseNet169\n"
          ]
        }
      ],
      "source": [
        "for dataset in DATASETS:\n",
        "\n",
        "  for cnn in CNNS:\n",
        "\n",
        "    while True:\n",
        "\n",
        "      r = requests.get(METRICS_URL)\n",
        "      df = pd.DataFrame.from_records(r.json())\n",
        "\n",
        "      print('Verificando dataset e cnn:', dataset, cnn)\n",
        "\n",
        "      total = len(df[(df.paper == PAPER_NAME) & (df.dataset == dataset) & (df.cnn == cnn)])\n",
        "      remain = NUM_SAMPLES - total\n",
        "\n",
        "      if remain <= 0:\n",
        "        break\n",
        "      else:\n",
        "        print('Ainda faltam amostras. Montando modelo.')\n",
        "\n",
        "        with tpu_strategy.scope():\n",
        "          if 'Proposal' in cnn:\n",
        "            model, opt = build_proposal_model(dataset)\n",
        "          elif 'Lima' in cnn:\n",
        "            model, opt = build_delima_model(dataset)\n",
        "          elif 'Diniz' in cnn:\n",
        "            model, opt = build_diniz_model(dataset)\n",
        "          elif 'Assunção' in cnn:\n",
        "            model, opt = build_assuncao_model(dataset)\n",
        "          elif 'Silva' in cnn:\n",
        "            model, opt = build_cec21_model(dataset)\n",
        "          else:\n",
        "            model, opt = build_cnn_model(dataset, cnn)\n",
        "\n",
        "        model.compile(loss='categorical_crossentropy', optimizer=opt, metrics=['accuracy', f1_score])\n",
        "        model.summary()\n",
        "\n",
        "        print('Iniciando treinamento...')\n",
        "\n",
        "        start_time = time.time()\n",
        "\n",
        "        accuracy, f1score = train_model(model, dataset)\n",
        "\n",
        "        end_time = round(time.time() - start_time)\n",
        "\n",
        "        model_name = '%s-%s.h5' % (dataset, cnn)\n",
        "        model.save(model_name)\n",
        "        size = os.path.getsize(model_name)\n",
        "\n",
        "        data = {\n",
        "            'paper': PAPER_NAME,\n",
        "            'dataset': dataset,\n",
        "            'cnn': cnn,\n",
        "            'accuracy': accuracy,\n",
        "            'f1_score': f1score,\n",
        "            'size': size,\n",
        "            'num_layers': len(model.layers),\n",
        "            'num_params': model.count_params(),\n",
        "            'time': end_time,\n",
        "        }\n",
        "          \n",
        "        print(data)\n",
        "\n",
        "        try:\n",
        "          r = requests.post(METRICS_URL, json=data)\n",
        "        except BaseException as ex:\n",
        "          print('Requests error:', ex)"
      ]
    },
    {
      "cell_type": "markdown",
      "metadata": {
        "id": "S65yTyMH8ngN"
      },
      "source": [
        "#Analyse"
      ]
    },
    {
      "cell_type": "code",
      "execution_count": null,
      "metadata": {
        "id": "-DI_obEmlfNb",
        "colab": {
          "base_uri": "https://localhost:8080/",
          "height": 959
        },
        "outputId": "c9f254e4-4527-49ad-b37b-d47017f2e8fd"
      },
      "outputs": [
        {
          "output_type": "execute_result",
          "data": {
            "text/html": [
              "\n",
              "  <div id=\"df-f760b768-a3eb-4344-8c30-b4493e2d0add\">\n",
              "    <div class=\"colab-df-container\">\n",
              "      <div>\n",
              "<style scoped>\n",
              "    .dataframe tbody tr th:only-of-type {\n",
              "        vertical-align: middle;\n",
              "    }\n",
              "\n",
              "    .dataframe tbody tr th {\n",
              "        vertical-align: top;\n",
              "    }\n",
              "\n",
              "    .dataframe thead tr th {\n",
              "        text-align: left;\n",
              "    }\n",
              "\n",
              "    .dataframe thead tr:last-of-type th {\n",
              "        text-align: right;\n",
              "    }\n",
              "</style>\n",
              "<table border=\"1\" class=\"dataframe\">\n",
              "  <thead>\n",
              "    <tr>\n",
              "      <th></th>\n",
              "      <th></th>\n",
              "      <th></th>\n",
              "      <th colspan=\"2\" halign=\"left\">accuracy</th>\n",
              "      <th colspan=\"2\" halign=\"left\">f1_score</th>\n",
              "      <th colspan=\"2\" halign=\"left\">size</th>\n",
              "      <th colspan=\"2\" halign=\"left\">num_layers</th>\n",
              "      <th colspan=\"2\" halign=\"left\">num_params</th>\n",
              "      <th colspan=\"2\" halign=\"left\">time</th>\n",
              "    </tr>\n",
              "    <tr>\n",
              "      <th></th>\n",
              "      <th></th>\n",
              "      <th></th>\n",
              "      <th>mean</th>\n",
              "      <th>std</th>\n",
              "      <th>mean</th>\n",
              "      <th>std</th>\n",
              "      <th>mean</th>\n",
              "      <th>std</th>\n",
              "      <th>mean</th>\n",
              "      <th>std</th>\n",
              "      <th>mean</th>\n",
              "      <th>std</th>\n",
              "      <th>mean</th>\n",
              "      <th>std</th>\n",
              "    </tr>\n",
              "    <tr>\n",
              "      <th>paper</th>\n",
              "      <th>dataset</th>\n",
              "      <th>cnn</th>\n",
              "      <th></th>\n",
              "      <th></th>\n",
              "      <th></th>\n",
              "      <th></th>\n",
              "      <th></th>\n",
              "      <th></th>\n",
              "      <th></th>\n",
              "      <th></th>\n",
              "      <th></th>\n",
              "      <th></th>\n",
              "      <th></th>\n",
              "      <th></th>\n",
              "    </tr>\n",
              "  </thead>\n",
              "  <tbody>\n",
              "    <tr>\n",
              "      <th rowspan=\"27\" valign=\"top\">wcci</th>\n",
              "      <th rowspan=\"9\" valign=\"top\">cifar10</th>\n",
              "      <th>Assunção et al. (2018)</th>\n",
              "      <td>0.819700</td>\n",
              "      <td>0.003704</td>\n",
              "      <td>0.820720</td>\n",
              "      <td>0.003750</td>\n",
              "      <td>200.757370</td>\n",
              "      <td>0.001453</td>\n",
              "      <td>14.0</td>\n",
              "      <td>0.0</td>\n",
              "      <td>52614218.0</td>\n",
              "      <td>0.0</td>\n",
              "      <td>1506.65</td>\n",
              "      <td>72.847552</td>\n",
              "    </tr>\n",
              "    <tr>\n",
              "      <th>DenseNet169</th>\n",
              "      <td>0.835250</td>\n",
              "      <td>0.021124</td>\n",
              "      <td>0.835840</td>\n",
              "      <td>0.020664</td>\n",
              "      <td>146.469230</td>\n",
              "      <td>0.000417</td>\n",
              "      <td>598.0</td>\n",
              "      <td>0.0</td>\n",
              "      <td>12659530.0</td>\n",
              "      <td>0.0</td>\n",
              "      <td>4080.45</td>\n",
              "      <td>317.033698</td>\n",
              "    </tr>\n",
              "    <tr>\n",
              "      <th>Diniz et al. (2018)</th>\n",
              "      <td>0.591775</td>\n",
              "      <td>0.016621</td>\n",
              "      <td>0.556807</td>\n",
              "      <td>0.023838</td>\n",
              "      <td>0.490476</td>\n",
              "      <td>0.000007</td>\n",
              "      <td>8.0</td>\n",
              "      <td>0.0</td>\n",
              "      <td>38890.0</td>\n",
              "      <td>0.0</td>\n",
              "      <td>1063.95</td>\n",
              "      <td>41.872582</td>\n",
              "    </tr>\n",
              "    <tr>\n",
              "      <th>EfficientNetB1</th>\n",
              "      <td>0.762375</td>\n",
              "      <td>0.010429</td>\n",
              "      <td>0.763346</td>\n",
              "      <td>0.010316</td>\n",
              "      <td>76.503773</td>\n",
              "      <td>0.000007</td>\n",
              "      <td>343.0</td>\n",
              "      <td>0.0</td>\n",
              "      <td>6588049.0</td>\n",
              "      <td>0.0</td>\n",
              "      <td>2479.70</td>\n",
              "      <td>33.905596</td>\n",
              "    </tr>\n",
              "    <tr>\n",
              "      <th>InceptionV3</th>\n",
              "      <td>0.816775</td>\n",
              "      <td>0.013223</td>\n",
              "      <td>0.817947</td>\n",
              "      <td>0.013467</td>\n",
              "      <td>250.849000</td>\n",
              "      <td>0.001681</td>\n",
              "      <td>314.0</td>\n",
              "      <td>0.0</td>\n",
              "      <td>21823274.0</td>\n",
              "      <td>0.0</td>\n",
              "      <td>2621.85</td>\n",
              "      <td>80.848315</td>\n",
              "    </tr>\n",
              "    <tr>\n",
              "      <th>Lima et al. (2019)</th>\n",
              "      <td>0.639975</td>\n",
              "      <td>0.006439</td>\n",
              "      <td>0.635198</td>\n",
              "      <td>0.006144</td>\n",
              "      <td>1.391251</td>\n",
              "      <td>0.000000</td>\n",
              "      <td>7.0</td>\n",
              "      <td>0.0</td>\n",
              "      <td>117674.0</td>\n",
              "      <td>0.0</td>\n",
              "      <td>1033.30</td>\n",
              "      <td>42.062735</td>\n",
              "    </tr>\n",
              "    <tr>\n",
              "      <th>ResNet50V2</th>\n",
              "      <td>0.786125</td>\n",
              "      <td>0.014175</td>\n",
              "      <td>0.787304</td>\n",
              "      <td>0.013705</td>\n",
              "      <td>270.464265</td>\n",
              "      <td>0.000008</td>\n",
              "      <td>193.0</td>\n",
              "      <td>0.0</td>\n",
              "      <td>23585290.0</td>\n",
              "      <td>0.0</td>\n",
              "      <td>1893.10</td>\n",
              "      <td>47.469547</td>\n",
              "    </tr>\n",
              "    <tr>\n",
              "      <th>Silva et al. (2021a)</th>\n",
              "      <td>0.861950</td>\n",
              "      <td>0.004392</td>\n",
              "      <td>0.863439</td>\n",
              "      <td>0.004230</td>\n",
              "      <td>51.180664</td>\n",
              "      <td>0.000277</td>\n",
              "      <td>29.0</td>\n",
              "      <td>0.0</td>\n",
              "      <td>4458282.0</td>\n",
              "      <td>0.0</td>\n",
              "      <td>1270.70</td>\n",
              "      <td>31.034955</td>\n",
              "    </tr>\n",
              "    <tr>\n",
              "      <th>Silva et al. (2021b)</th>\n",
              "      <td>0.860575</td>\n",
              "      <td>0.008727</td>\n",
              "      <td>0.862016</td>\n",
              "      <td>0.008038</td>\n",
              "      <td>75.174102</td>\n",
              "      <td>0.000021</td>\n",
              "      <td>26.0</td>\n",
              "      <td>0.0</td>\n",
              "      <td>6556586.0</td>\n",
              "      <td>0.0</td>\n",
              "      <td>1316.05</td>\n",
              "      <td>35.425942</td>\n",
              "    </tr>\n",
              "    <tr>\n",
              "      <th rowspan=\"9\" valign=\"top\">eurosat</th>\n",
              "      <th>Assunção et al. (2018)</th>\n",
              "      <td>0.947454</td>\n",
              "      <td>0.003973</td>\n",
              "      <td>0.947709</td>\n",
              "      <td>0.004143</td>\n",
              "      <td>78.386457</td>\n",
              "      <td>0.000044</td>\n",
              "      <td>15.0</td>\n",
              "      <td>0.0</td>\n",
              "      <td>20534986.0</td>\n",
              "      <td>0.0</td>\n",
              "      <td>966.55</td>\n",
              "      <td>16.993729</td>\n",
              "    </tr>\n",
              "    <tr>\n",
              "      <th>DenseNet169</th>\n",
              "      <td>0.938611</td>\n",
              "      <td>0.004218</td>\n",
              "      <td>0.938986</td>\n",
              "      <td>0.004211</td>\n",
              "      <td>146.469404</td>\n",
              "      <td>0.000015</td>\n",
              "      <td>598.0</td>\n",
              "      <td>0.0</td>\n",
              "      <td>12659530.0</td>\n",
              "      <td>0.0</td>\n",
              "      <td>2221.20</td>\n",
              "      <td>86.987960</td>\n",
              "    </tr>\n",
              "    <tr>\n",
              "      <th>Diniz et al. (2018)</th>\n",
              "      <td>0.682917</td>\n",
              "      <td>0.022447</td>\n",
              "      <td>0.679079</td>\n",
              "      <td>0.023440</td>\n",
              "      <td>13.174744</td>\n",
              "      <td>0.000000</td>\n",
              "      <td>12.0</td>\n",
              "      <td>0.0</td>\n",
              "      <td>1145834.0</td>\n",
              "      <td>0.0</td>\n",
              "      <td>763.95</td>\n",
              "      <td>22.915118</td>\n",
              "    </tr>\n",
              "    <tr>\n",
              "      <th>EfficientNetB1</th>\n",
              "      <td>0.836528</td>\n",
              "      <td>0.018759</td>\n",
              "      <td>0.837938</td>\n",
              "      <td>0.019312</td>\n",
              "      <td>76.504561</td>\n",
              "      <td>0.000008</td>\n",
              "      <td>343.0</td>\n",
              "      <td>0.0</td>\n",
              "      <td>6588049.0</td>\n",
              "      <td>0.0</td>\n",
              "      <td>1574.65</td>\n",
              "      <td>40.222114</td>\n",
              "    </tr>\n",
              "    <tr>\n",
              "      <th>InceptionV3</th>\n",
              "      <td>0.937824</td>\n",
              "      <td>0.044639</td>\n",
              "      <td>0.938163</td>\n",
              "      <td>0.043976</td>\n",
              "      <td>250.848251</td>\n",
              "      <td>0.002387</td>\n",
              "      <td>314.0</td>\n",
              "      <td>0.0</td>\n",
              "      <td>21823274.0</td>\n",
              "      <td>0.0</td>\n",
              "      <td>1569.80</td>\n",
              "      <td>54.011305</td>\n",
              "    </tr>\n",
              "    <tr>\n",
              "      <th>Lima et al. (2019)</th>\n",
              "      <td>0.908981</td>\n",
              "      <td>0.007116</td>\n",
              "      <td>0.908713</td>\n",
              "      <td>0.007002</td>\n",
              "      <td>0.516914</td>\n",
              "      <td>0.000000</td>\n",
              "      <td>10.0</td>\n",
              "      <td>0.0</td>\n",
              "      <td>41130.0</td>\n",
              "      <td>0.0</td>\n",
              "      <td>746.70</td>\n",
              "      <td>21.990668</td>\n",
              "    </tr>\n",
              "    <tr>\n",
              "      <th>ResNet50V2</th>\n",
              "      <td>0.912130</td>\n",
              "      <td>0.006663</td>\n",
              "      <td>0.912434</td>\n",
              "      <td>0.006339</td>\n",
              "      <td>270.465055</td>\n",
              "      <td>0.000009</td>\n",
              "      <td>193.0</td>\n",
              "      <td>0.0</td>\n",
              "      <td>23585290.0</td>\n",
              "      <td>0.0</td>\n",
              "      <td>1261.40</td>\n",
              "      <td>53.754216</td>\n",
              "    </tr>\n",
              "    <tr>\n",
              "      <th>Silva et al. (2021a)</th>\n",
              "      <td>0.942176</td>\n",
              "      <td>0.012658</td>\n",
              "      <td>0.942419</td>\n",
              "      <td>0.012456</td>\n",
              "      <td>30.884824</td>\n",
              "      <td>0.000085</td>\n",
              "      <td>23.0</td>\n",
              "      <td>0.0</td>\n",
              "      <td>2685994.0</td>\n",
              "      <td>0.0</td>\n",
              "      <td>1019.55</td>\n",
              "      <td>24.452909</td>\n",
              "    </tr>\n",
              "    <tr>\n",
              "      <th>Silva et al. (2021b)</th>\n",
              "      <td>0.948750</td>\n",
              "      <td>0.011225</td>\n",
              "      <td>0.948817</td>\n",
              "      <td>0.011330</td>\n",
              "      <td>75.081630</td>\n",
              "      <td>0.000007</td>\n",
              "      <td>23.0</td>\n",
              "      <td>0.0</td>\n",
              "      <td>6549802.0</td>\n",
              "      <td>0.0</td>\n",
              "      <td>967.00</td>\n",
              "      <td>22.632069</td>\n",
              "    </tr>\n",
              "    <tr>\n",
              "      <th rowspan=\"9\" valign=\"top\">mnist</th>\n",
              "      <th>Assunção et al. (2018)</th>\n",
              "      <td>0.995150</td>\n",
              "      <td>0.001040</td>\n",
              "      <td>0.995203</td>\n",
              "      <td>0.001026</td>\n",
              "      <td>43.659935</td>\n",
              "      <td>0.000219</td>\n",
              "      <td>18.0</td>\n",
              "      <td>0.0</td>\n",
              "      <td>11427338.0</td>\n",
              "      <td>0.0</td>\n",
              "      <td>1261.45</td>\n",
              "      <td>41.231663</td>\n",
              "    </tr>\n",
              "    <tr>\n",
              "      <th>DenseNet169</th>\n",
              "      <td>0.995050</td>\n",
              "      <td>0.001075</td>\n",
              "      <td>0.994951</td>\n",
              "      <td>0.001135</td>\n",
              "      <td>146.397614</td>\n",
              "      <td>0.000021</td>\n",
              "      <td>598.0</td>\n",
              "      <td>0.0</td>\n",
              "      <td>12653258.0</td>\n",
              "      <td>0.0</td>\n",
              "      <td>4823.65</td>\n",
              "      <td>65.555340</td>\n",
              "    </tr>\n",
              "    <tr>\n",
              "      <th>Diniz et al. (2018)</th>\n",
              "      <td>0.985725</td>\n",
              "      <td>0.001626</td>\n",
              "      <td>0.985516</td>\n",
              "      <td>0.001745</td>\n",
              "      <td>0.324272</td>\n",
              "      <td>0.000000</td>\n",
              "      <td>6.0</td>\n",
              "      <td>0.0</td>\n",
              "      <td>25258.0</td>\n",
              "      <td>0.0</td>\n",
              "      <td>1050.35</td>\n",
              "      <td>46.558707</td>\n",
              "    </tr>\n",
              "    <tr>\n",
              "      <th>EfficientNetB1</th>\n",
              "      <td>0.992975</td>\n",
              "      <td>0.001997</td>\n",
              "      <td>0.992764</td>\n",
              "      <td>0.002136</td>\n",
              "      <td>76.497769</td>\n",
              "      <td>0.000009</td>\n",
              "      <td>343.0</td>\n",
              "      <td>0.0</td>\n",
              "      <td>6587469.0</td>\n",
              "      <td>0.0</td>\n",
              "      <td>3204.80</td>\n",
              "      <td>172.296745</td>\n",
              "    </tr>\n",
              "    <tr>\n",
              "      <th>InceptionV3</th>\n",
              "      <td>0.995275</td>\n",
              "      <td>0.000980</td>\n",
              "      <td>0.995146</td>\n",
              "      <td>0.000884</td>\n",
              "      <td>250.841461</td>\n",
              "      <td>0.002557</td>\n",
              "      <td>314.0</td>\n",
              "      <td>0.0</td>\n",
              "      <td>21822698.0</td>\n",
              "      <td>0.0</td>\n",
              "      <td>3170.75</td>\n",
              "      <td>144.197553</td>\n",
              "    </tr>\n",
              "    <tr>\n",
              "      <th>Lima et al. (2019)</th>\n",
              "      <td>0.988075</td>\n",
              "      <td>0.002092</td>\n",
              "      <td>0.987897</td>\n",
              "      <td>0.002221</td>\n",
              "      <td>2.013166</td>\n",
              "      <td>0.000058</td>\n",
              "      <td>7.0</td>\n",
              "      <td>0.0</td>\n",
              "      <td>172042.0</td>\n",
              "      <td>0.0</td>\n",
              "      <td>1038.80</td>\n",
              "      <td>41.331268</td>\n",
              "    </tr>\n",
              "    <tr>\n",
              "      <th>ResNet50V2</th>\n",
              "      <td>0.994675</td>\n",
              "      <td>0.000693</td>\n",
              "      <td>0.994519</td>\n",
              "      <td>0.000828</td>\n",
              "      <td>270.393280</td>\n",
              "      <td>0.000007</td>\n",
              "      <td>193.0</td>\n",
              "      <td>0.0</td>\n",
              "      <td>23579018.0</td>\n",
              "      <td>0.0</td>\n",
              "      <td>2412.80</td>\n",
              "      <td>130.293838</td>\n",
              "    </tr>\n",
              "    <tr>\n",
              "      <th>Silva et al. (2021a)</th>\n",
              "      <td>0.993750</td>\n",
              "      <td>0.000925</td>\n",
              "      <td>0.993558</td>\n",
              "      <td>0.001029</td>\n",
              "      <td>41.098621</td>\n",
              "      <td>0.000016</td>\n",
              "      <td>19.0</td>\n",
              "      <td>0.0</td>\n",
              "      <td>3582506.0</td>\n",
              "      <td>0.0</td>\n",
              "      <td>1194.75</td>\n",
              "      <td>50.831895</td>\n",
              "    </tr>\n",
              "    <tr>\n",
              "      <th>Silva et al. (2021b)</th>\n",
              "      <td>0.995025</td>\n",
              "      <td>0.000850</td>\n",
              "      <td>0.995035</td>\n",
              "      <td>0.000858</td>\n",
              "      <td>30.486885</td>\n",
              "      <td>0.000024</td>\n",
              "      <td>26.0</td>\n",
              "      <td>0.0</td>\n",
              "      <td>2651690.0</td>\n",
              "      <td>0.0</td>\n",
              "      <td>1281.45</td>\n",
              "      <td>36.469851</td>\n",
              "    </tr>\n",
              "  </tbody>\n",
              "</table>\n",
              "</div>\n",
              "      <button class=\"colab-df-convert\" onclick=\"convertToInteractive('df-f760b768-a3eb-4344-8c30-b4493e2d0add')\"\n",
              "              title=\"Convert this dataframe to an interactive table.\"\n",
              "              style=\"display:none;\">\n",
              "        \n",
              "  <svg xmlns=\"http://www.w3.org/2000/svg\" height=\"24px\"viewBox=\"0 0 24 24\"\n",
              "       width=\"24px\">\n",
              "    <path d=\"M0 0h24v24H0V0z\" fill=\"none\"/>\n",
              "    <path d=\"M18.56 5.44l.94 2.06.94-2.06 2.06-.94-2.06-.94-.94-2.06-.94 2.06-2.06.94zm-11 1L8.5 8.5l.94-2.06 2.06-.94-2.06-.94L8.5 2.5l-.94 2.06-2.06.94zm10 10l.94 2.06.94-2.06 2.06-.94-2.06-.94-.94-2.06-.94 2.06-2.06.94z\"/><path d=\"M17.41 7.96l-1.37-1.37c-.4-.4-.92-.59-1.43-.59-.52 0-1.04.2-1.43.59L10.3 9.45l-7.72 7.72c-.78.78-.78 2.05 0 2.83L4 21.41c.39.39.9.59 1.41.59.51 0 1.02-.2 1.41-.59l7.78-7.78 2.81-2.81c.8-.78.8-2.07 0-2.86zM5.41 20L4 18.59l7.72-7.72 1.47 1.35L5.41 20z\"/>\n",
              "  </svg>\n",
              "      </button>\n",
              "      \n",
              "  <style>\n",
              "    .colab-df-container {\n",
              "      display:flex;\n",
              "      flex-wrap:wrap;\n",
              "      gap: 12px;\n",
              "    }\n",
              "\n",
              "    .colab-df-convert {\n",
              "      background-color: #E8F0FE;\n",
              "      border: none;\n",
              "      border-radius: 50%;\n",
              "      cursor: pointer;\n",
              "      display: none;\n",
              "      fill: #1967D2;\n",
              "      height: 32px;\n",
              "      padding: 0 0 0 0;\n",
              "      width: 32px;\n",
              "    }\n",
              "\n",
              "    .colab-df-convert:hover {\n",
              "      background-color: #E2EBFA;\n",
              "      box-shadow: 0px 1px 2px rgba(60, 64, 67, 0.3), 0px 1px 3px 1px rgba(60, 64, 67, 0.15);\n",
              "      fill: #174EA6;\n",
              "    }\n",
              "\n",
              "    [theme=dark] .colab-df-convert {\n",
              "      background-color: #3B4455;\n",
              "      fill: #D2E3FC;\n",
              "    }\n",
              "\n",
              "    [theme=dark] .colab-df-convert:hover {\n",
              "      background-color: #434B5C;\n",
              "      box-shadow: 0px 1px 3px 1px rgba(0, 0, 0, 0.15);\n",
              "      filter: drop-shadow(0px 1px 2px rgba(0, 0, 0, 0.3));\n",
              "      fill: #FFFFFF;\n",
              "    }\n",
              "  </style>\n",
              "\n",
              "      <script>\n",
              "        const buttonEl =\n",
              "          document.querySelector('#df-f760b768-a3eb-4344-8c30-b4493e2d0add button.colab-df-convert');\n",
              "        buttonEl.style.display =\n",
              "          google.colab.kernel.accessAllowed ? 'block' : 'none';\n",
              "\n",
              "        async function convertToInteractive(key) {\n",
              "          const element = document.querySelector('#df-f760b768-a3eb-4344-8c30-b4493e2d0add');\n",
              "          const dataTable =\n",
              "            await google.colab.kernel.invokeFunction('convertToInteractive',\n",
              "                                                     [key], {});\n",
              "          if (!dataTable) return;\n",
              "\n",
              "          const docLinkHtml = 'Like what you see? Visit the ' +\n",
              "            '<a target=\"_blank\" href=https://colab.research.google.com/notebooks/data_table.ipynb>data table notebook</a>'\n",
              "            + ' to learn more about interactive tables.';\n",
              "          element.innerHTML = '';\n",
              "          dataTable['output_type'] = 'display_data';\n",
              "          await google.colab.output.renderOutput(dataTable, element);\n",
              "          const docLink = document.createElement('div');\n",
              "          docLink.innerHTML = docLinkHtml;\n",
              "          element.appendChild(docLink);\n",
              "        }\n",
              "      </script>\n",
              "    </div>\n",
              "  </div>\n",
              "  "
            ],
            "text/plain": [
              "                                      accuracy            ...     time            \n",
              "                                          mean       std  ...     mean         std\n",
              "paper dataset cnn                                         ...                     \n",
              "wcci  cifar10 Assunção et al. (2018)  0.819700  0.003704  ...  1506.65   72.847552\n",
              "              DenseNet169             0.835250  0.021124  ...  4080.45  317.033698\n",
              "              Diniz et al. (2018)     0.591775  0.016621  ...  1063.95   41.872582\n",
              "              EfficientNetB1          0.762375  0.010429  ...  2479.70   33.905596\n",
              "              InceptionV3             0.816775  0.013223  ...  2621.85   80.848315\n",
              "              Lima et al. (2019)      0.639975  0.006439  ...  1033.30   42.062735\n",
              "              ResNet50V2              0.786125  0.014175  ...  1893.10   47.469547\n",
              "              Silva et al. (2021a)    0.861950  0.004392  ...  1270.70   31.034955\n",
              "              Silva et al. (2021b)    0.860575  0.008727  ...  1316.05   35.425942\n",
              "      eurosat Assunção et al. (2018)  0.947454  0.003973  ...   966.55   16.993729\n",
              "              DenseNet169             0.938611  0.004218  ...  2221.20   86.987960\n",
              "              Diniz et al. (2018)     0.682917  0.022447  ...   763.95   22.915118\n",
              "              EfficientNetB1          0.836528  0.018759  ...  1574.65   40.222114\n",
              "              InceptionV3             0.937824  0.044639  ...  1569.80   54.011305\n",
              "              Lima et al. (2019)      0.908981  0.007116  ...   746.70   21.990668\n",
              "              ResNet50V2              0.912130  0.006663  ...  1261.40   53.754216\n",
              "              Silva et al. (2021a)    0.942176  0.012658  ...  1019.55   24.452909\n",
              "              Silva et al. (2021b)    0.948750  0.011225  ...   967.00   22.632069\n",
              "      mnist   Assunção et al. (2018)  0.995150  0.001040  ...  1261.45   41.231663\n",
              "              DenseNet169             0.995050  0.001075  ...  4823.65   65.555340\n",
              "              Diniz et al. (2018)     0.985725  0.001626  ...  1050.35   46.558707\n",
              "              EfficientNetB1          0.992975  0.001997  ...  3204.80  172.296745\n",
              "              InceptionV3             0.995275  0.000980  ...  3170.75  144.197553\n",
              "              Lima et al. (2019)      0.988075  0.002092  ...  1038.80   41.331268\n",
              "              ResNet50V2              0.994675  0.000693  ...  2412.80  130.293838\n",
              "              Silva et al. (2021a)    0.993750  0.000925  ...  1194.75   50.831895\n",
              "              Silva et al. (2021b)    0.995025  0.000850  ...  1281.45   36.469851\n",
              "\n",
              "[27 rows x 12 columns]"
            ]
          },
          "metadata": {},
          "execution_count": 9
        }
      ],
      "source": [
        "r = requests.get(METRICS_URL)\n",
        " \n",
        "df = pd.DataFrame.from_records(r.json())\n",
        "df[['accuracy', 'f1_score']] = df[['accuracy', 'f1_score']].astype(float)\n",
        "df[['size', 'num_layers', 'num_params', 'time']] = df[['size', 'num_layers', 'num_params', 'time']].astype(float).astype(int)\n",
        "df['size'] = df['size']/(1024*1024)\n",
        "\n",
        "df = df[df.paper == 'wcci']\n",
        "df.loc[df.cnn == 'Silva et al. (2021)', 'cnn'] = 'Silva et al. (2021a)'\n",
        "df.loc[df.cnn == 'Proposal', 'cnn'] = 'Silva et al. (2021b)'\n",
        "df.groupby(['paper', 'dataset', 'cnn']).agg([np.mean, np.std])"
      ]
    },
    {
      "cell_type": "code",
      "execution_count": null,
      "metadata": {
        "id": "wIRsB-LBpn9C",
        "colab": {
          "base_uri": "https://localhost:8080/",
          "height": 1000
        },
        "outputId": "411746f5-8e63-4e3f-c332-6c755a37ac2d"
      },
      "outputs": [
        {
          "output_type": "stream",
          "name": "stdout",
          "text": [
            "Null hypothesis: The means of the results of two or more algorithms are the same.\n",
            "Dataset, objective: cifar10 accuracy\n",
            "\t null hypothesis: rejected\n",
            "\t p-value: 2.037822779170794e-26\n",
            "\t ranking: [1.525 6.    1.475 8.    4.55  7.    9.    3.2   4.25 ]\n",
            "\t names: ['Silva et al. (2021a)', 'ResNet50V2', 'Silva et al. (2021b)', 'Lima et al. (2019)', 'InceptionV3', 'EfficientNetB1', 'Diniz et al. (2018)', 'DenseNet169', 'Assunção et al. (2018)']\n",
            "\t cd: 2.6861769756803064\n"
          ]
        },
        {
          "output_type": "display_data",
          "data": {
            "image/png": "[encoded data removed]",
            "text/plain": [
              "<Figure size 432x183.6 with 1 Axes>"
            ]
          },
          "metadata": {}
        },
        {
          "output_type": "stream",
          "name": "stdout",
          "text": [
            "Dataset, objective: cifar10 f1_score\n",
            "\t null hypothesis: rejected\n",
            "\t p-value: 1.0235319317282263e-23\n",
            "\t ranking: [1.45 6.   1.55 8.   4.4  7.   9.   3.2  4.4 ]\n",
            "\t names: ['Silva et al. (2021a)', 'ResNet50V2', 'Silva et al. (2021b)', 'Lima et al. (2019)', 'InceptionV3', 'EfficientNetB1', 'Diniz et al. (2018)', 'DenseNet169', 'Assunção et al. (2018)']\n",
            "\t cd: 2.6861769756803064\n"
          ]
        },
        {
          "output_type": "display_data",
          "data": {
            "image/png": "[encoded data removed]",
            "text/plain": [
              "<Figure size 432x176.4 with 1 Axes>"
            ]
          },
          "metadata": {}
        },
        {
          "output_type": "stream",
          "name": "stdout",
          "text": [
            "Dataset, objective: mnist accuracy\n",
            "\t null hypothesis: rejected\n",
            "\t p-value: 9.419250305629514e-26\n",
            "\t ranking: [6.175 4.525 3.1   8.    1.975 6.625 9.    3.05  2.55 ]\n",
            "\t names: ['Silva et al. (2021a)', 'ResNet50V2', 'Silva et al. (2021b)', 'Lima et al. (2019)', 'InceptionV3', 'EfficientNetB1', 'Diniz et al. (2018)', 'DenseNet169', 'Assunção et al. (2018)']\n",
            "\t cd: 2.6861769756803064\n"
          ]
        },
        {
          "output_type": "display_data",
          "data": {
            "image/png": "[encoded data removed]",
            "text/plain": [
              "<Figure size 432x169.2 with 1 Axes>"
            ]
          },
          "metadata": {}
        },
        {
          "output_type": "stream",
          "name": "stdout",
          "text": [
            "Dataset, objective: mnist f1_score\n",
            "\t null hypothesis: rejected\n",
            "\t p-value: 9.871013842379157e-26\n",
            "\t ranking: [6.175 4.9   2.875 8.    2.275 6.575 9.    3.175 2.025]\n",
            "\t names: ['Silva et al. (2021a)', 'ResNet50V2', 'Silva et al. (2021b)', 'Lima et al. (2019)', 'InceptionV3', 'EfficientNetB1', 'Diniz et al. (2018)', 'DenseNet169', 'Assunção et al. (2018)']\n",
            "\t cd: 2.6861769756803064\n"
          ]
        },
        {
          "output_type": "display_data",
          "data": {
            "image/png": "[encoded data removed]",
            "text/plain": [
              "<Figure size 432x176.4 with 1 Axes>"
            ]
          },
          "metadata": {}
        },
        {
          "output_type": "stream",
          "name": "stdout",
          "text": [
            "Dataset, objective: eurosat accuracy\n",
            "\t null hypothesis: rejected\n",
            "\t p-value: 2.8279439532163626e-26\n",
            "\t ranking: [3.625 6.05  1.875 6.85  2.5   7.95  9.    4.425 2.725]\n",
            "\t names: ['Silva et al. (2021a)', 'ResNet50V2', 'Silva et al. (2021b)', 'Lima et al. (2019)', 'InceptionV3', 'EfficientNetB1', 'Diniz et al. (2018)', 'DenseNet169', 'Assunção et al. (2018)']\n",
            "\t cd: 2.6861769756803064\n"
          ]
        },
        {
          "output_type": "display_data",
          "data": {
            "image/png": "[encoded data removed]",
            "text/plain": [
              "<Figure size 432x176.4 with 1 Axes>"
            ]
          },
          "metadata": {}
        },
        {
          "output_type": "stream",
          "name": "stdout",
          "text": [
            "Dataset, objective: eurosat f1_score\n",
            "\t null hypothesis: rejected\n",
            "\t p-value: 2.0829349851821633e-25\n",
            "\t ranking: [3.65 6.05 2.   6.85 2.4  7.95 9.   4.4  2.7 ]\n",
            "\t names: ['Silva et al. (2021a)', 'ResNet50V2', 'Silva et al. (2021b)', 'Lima et al. (2019)', 'InceptionV3', 'EfficientNetB1', 'Diniz et al. (2018)', 'DenseNet169', 'Assunção et al. (2018)']\n",
            "\t cd: 2.6861769756803064\n"
          ]
        },
        {
          "output_type": "display_data",
          "data": {
            "image/png": "[encoded data removed]",
            "text/plain": [
              "<Figure size 432x176.4 with 1 Axes>"
            ]
          },
          "metadata": {}
        }
      ],
      "source": [
        "objectives = ['accuracy', 'f1_score']\n",
        "alpha = 0.05\n",
        " \n",
        "print('Null hypothesis:', 'The means of the results of two or more algorithms are the same.')\n",
        "\n",
        "for dataset in DATASETS:\n",
        "  \n",
        "  data = df[df.dataset == dataset]\n",
        "  cnns = data.cnn.unique()\n",
        "  \n",
        "  for objective in objectives:\n",
        "    \n",
        "    print('Dataset, objective:', dataset, objective)\n",
        "    \n",
        "    df1 = pd.DataFrame({cnn: list(data[data.cnn == cnn][objective]) for cnn in cnns})\n",
        "    values = df1.values\n",
        "    names = df1.columns    \n",
        "\n",
        "    friedman = friedmanchisquare(*values)\n",
        "    ranks = np.array([rankdata(-p) for p in values])\n",
        "    average_ranks = np.mean(ranks, axis = 0)\n",
        "    \n",
        "    cd = compute_CD(average_ranks, n=len(df1), alpha=str(alpha), test='nemenyi')\n",
        "    \n",
        "    print('\\t', 'null hypothesis:', 'rejected' if friedman.pvalue < alpha else 'accepted')\n",
        "    print('\\t', 'p-value:', friedman.pvalue)\n",
        "    print('\\t', 'ranking:', average_ranks)\n",
        "    print('\\t', 'names:', list(names))\n",
        "    print('\\t', 'cd:', cd)\n",
        "    \n",
        "    graph_ranks(average_ranks, names=names, cd=cd)\n",
        "    # title = f'Friedman-Nemenyi (CD = {round(cd, 3)})'\n",
        "    title = f'Dataset: {dataset}, Metric: {objective}, CD: {round(cd, 3)}'\n",
        "    plt.title(title)\n",
        "    plt.suptitle('p-value: {:.2e}'.format(friedman.pvalue))\n",
        "    plt.savefig(f'/content/cd_{dataset}_{objective}.pdf', bbox_inches='tight')\n",
        "    plt.show()\n"
      ]
    },
    {
      "cell_type": "code",
      "execution_count": null,
      "metadata": {
        "id": "rwbNzTHjrknF",
        "colab": {
          "base_uri": "https://localhost:8080/"
        },
        "outputId": "b8c4c88e-efc2-407c-849b-82ca8e12d826"
      },
      "outputs": [
        {
          "output_type": "stream",
          "name": "stdout",
          "text": [
            "tar: Removing leading `/' from member names\n",
            "/content/cd_cifar10_accuracy.pdf\n",
            "/content/cd_cifar10_f1_score.pdf\n",
            "/content/cd_eurosat_accuracy.pdf\n",
            "/content/cd_eurosat_f1_score.pdf\n",
            "/content/cd_mnist_accuracy.pdf\n",
            "/content/cd_mnist_f1_score.pdf\n"
          ]
        }
      ],
      "source": [
        "!tar -cvzf plots.tar.gz /content/*.pdf"
      ]
    }
  ],
  "metadata": {
    "colab": {
      "collapsed_sections": [],
      "name": "analise_wcci.ipynb",
      "provenance": []
    },
    "kernelspec": {
      "display_name": "Python 3",
      "language": "python",
      "name": "python3"
    },
    "language_info": {
      "codemirror_mode": {
        "name": "ipython",
        "version": 3
      },
      "file_extension": ".py",
      "mimetype": "text/x-python",
      "name": "python",
      "nbconvert_exporter": "python",
      "pygments_lexer": "ipython3",
      "version": "3.6.4"
    }
  },
  "nbformat": 4,
  "nbformat_minor": 0
}